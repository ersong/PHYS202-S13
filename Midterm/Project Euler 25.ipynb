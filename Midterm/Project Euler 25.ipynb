{
 "metadata": {
  "name": "Project Euler 25"
 },
 "nbformat": 3,
 "nbformat_minor": 0,
 "worksheets": [
  {
   "cells": [
    {
     "cell_type": "markdown",
     "metadata": {},
     "source": [
      "1000-digit Fibonacci number\n",
      "\n",
      "Problem 25\n",
      "\n",
      "The Fibonacci sequence is defined by the recurrence relation:\n",
      "\n",
      "$F_{n}$ = $F_{n1}$ + $F_{n2}$, where $F_{1}$ = 1 and $F_{2}$ = 1.\n",
      "\n",
      "\n",
      "Hence the first 12 terms will be:\n",
      "$F_{1}$ = 1\n",
      "\n",
      "$F_{2}$ = 1\n",
      "\n",
      "$F_{3}$ = 2\n",
      "\n",
      "$F_{4}$ = 3\n",
      "\n",
      "$F_{5}$ = 5\n",
      "\n",
      "$F_{6}$ = 8\n",
      "\n",
      "$F_{7}$ = 13\n",
      "\n",
      "$F_{8}$ = 21\n",
      "\n",
      "$F_{9}$ = 34\n",
      "\n",
      "$F_{10}$ = 55\n",
      "\n",
      "$F_{11}$ = 89\n",
      "\n",
      "$F_{12}$ = 144\n",
      "\n",
      "\n",
      "\n",
      "The 12th term, $F_{12}$, is the first term to contain three digits.\n",
      "\n",
      "What is the first term in the Fibonacci sequence to contain 1000 digits?"
     ]
    },
    {
     "cell_type": "code",
     "collapsed": false,
     "input": [
      "def findFib(term):\n",
      "    n=term\n",
      "    if n==1 or n==2:\n",
      "        F=1\n",
      "    else:\n",
      "        F1=1\n",
      "        F2=1\n",
      "        for i in range(2,n):\n",
      "            F=F1+F2\n",
      "            F2=F1\n",
      "            F1=F\n",
      "    return F\n",
      "print findFib(3)\n",
      "print findFib(7)\n",
      "print findFib(12)\n"
     ],
     "language": "python",
     "metadata": {},
     "outputs": [
      {
       "output_type": "stream",
       "stream": "stdout",
       "text": [
        "2\n",
        "13\n",
        "144\n"
       ]
      }
     ],
     "prompt_number": 3
    },
    {
     "cell_type": "code",
     "collapsed": false,
     "input": [
      "n=1\n",
      "while 1==1:\n",
      "    F=str(findFib(n))\n",
      "    if len(F)==1000:\n",
      "        print F\n",
      "        break\n",
      "    n+=1"
     ],
     "language": "python",
     "metadata": {},
     "outputs": [
      {
       "output_type": "stream",
       "stream": "stdout",
       "text": [
        "1070066266382758936764980584457396885083683896632151665013235203375314520604694040621889147582489792657804694888177591957484336466672569959512996030461262748092482186144069433051234774442750273781753087579391666192149259186759553966422837148943113074699503439547001985432609723067290192870526447243726117715821825548491120525013201478612965931381792235559657452039506137551467837543229119602129934048260706175397706847068202895486902666185435124521900369480641357447470911707619766945691070098024393439617474103736912503231365532164773697023167755051595173518460579954919410967778373229665796581646513903488154256310184224190259846088000110186255550245493937113651657039447629584714548523425950428582425306083544435428212611008992863795048006894330309773217834864543113205765659868456288616808718693835297350643986297640660000723562917905207051164077614812491885830945940566688339109350944456576357666151619317753792891661581327159616877487983821820492520348473874384736771934512787029218636250627816\n"
       ]
      }
     ],
     "prompt_number": 4
    },
    {
     "cell_type": "code",
     "collapsed": false,
     "input": [],
     "language": "python",
     "metadata": {},
     "outputs": []
    }
   ],
   "metadata": {}
  }
 ]
}