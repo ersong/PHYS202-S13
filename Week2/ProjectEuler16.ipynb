{
 "metadata": {
  "name": "ProjectEuler16"
 },
 "nbformat": 3,
 "nbformat_minor": 0,
 "worksheets": [
  {
   "cells": [
    {
     "cell_type": "markdown",
     "metadata": {},
     "source": [
      "Power digit sum\n",
      "===============\n",
      "Problem 16\n",
      "----------\n",
      "\n",
      "2$^{15}$ = 32768 and the sum of its digits is 3 + 2 + 7 + 6 + 8 = 26.\n",
      "\n",
      "What is the sum of the digits of the number 2$^{1000}$?\n"
     ]
    },
    {
     "cell_type": "code",
     "collapsed": false,
     "input": [
      "number=str(2**15)\n",
      "num2=0\n",
      "for i in number:\n",
      "    num2+=int(i)\n",
      "print \"Test case\"\n",
      "print number\n",
      "print num2"
     ],
     "language": "python",
     "metadata": {},
     "outputs": [
      {
       "output_type": "stream",
       "stream": "stdout",
       "text": [
        "Test case\n",
        "32768\n",
        "26\n"
       ]
      }
     ],
     "prompt_number": 1
    },
    {
     "cell_type": "code",
     "collapsed": false,
     "input": [
      "number=str(2**1000)\n",
      "num2=0\n",
      "for i in number:\n",
      "    num2+=int(i)\n",
      "\n",
      "print num2"
     ],
     "language": "python",
     "metadata": {},
     "outputs": [
      {
       "output_type": "stream",
       "stream": "stdout",
       "text": [
        "1366\n"
       ]
      }
     ],
     "prompt_number": 2
    },
    {
     "cell_type": "code",
     "collapsed": false,
     "input": [],
     "language": "python",
     "metadata": {},
     "outputs": []
    }
   ],
   "metadata": {}
  }
 ]
}