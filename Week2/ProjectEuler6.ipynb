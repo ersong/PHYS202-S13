{
 "metadata": {
  "name": "ProjectEuler6"
 },
 "nbformat": 3,
 "nbformat_minor": 0,
 "worksheets": [
  {
   "cells": [
    {
     "cell_type": "markdown",
     "metadata": {},
     "source": [
      "Sum square difference\n",
      "=====================\n",
      "Problem 6\n",
      "---------\n",
      "\n",
      "The sum of the squares of the first ten natural numbers is,\n",
      "1$^2$ + 2$^2$ + ... + 10$^2$ = 385\n",
      "\n",
      "The square of the sum of the first ten natural numbers is,\n",
      "(1 + 2 + ... + 10)$^2$ = 55$^2$ = 3025\n",
      "\n",
      "Hence the difference between the sum of the squares of the first ten natural numbers and the square of the sum is 3025 \u2212 385 = 2640.\n",
      "\n",
      "Find the difference between the sum of the squares of the first one hundred natural numbers and the square of the sum.\n"
     ]
    },
    {
     "cell_type": "code",
     "collapsed": false,
     "input": [
      "sum1=0\n",
      "sum2=0\n",
      "for i in range(101):\n",
      "    sum1+=i**2\n",
      "    sum2+=i\n",
      "\n",
      "print sum2**2-sum1"
     ],
     "language": "python",
     "metadata": {},
     "outputs": [
      {
       "output_type": "stream",
       "stream": "stdout",
       "text": [
        "25164150\n"
       ]
      }
     ],
     "prompt_number": 11
    },
    {
     "cell_type": "code",
     "collapsed": false,
     "input": [],
     "language": "python",
     "metadata": {},
     "outputs": []
    }
   ],
   "metadata": {}
  }
 ]
}