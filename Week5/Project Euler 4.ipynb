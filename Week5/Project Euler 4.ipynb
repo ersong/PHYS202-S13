{
 "metadata": {
  "name": "Project Euler 4"
 },
 "nbformat": 3,
 "nbformat_minor": 0,
 "worksheets": [
  {
   "cells": [
    {
     "cell_type": "markdown",
     "metadata": {},
     "source": [
      "Largest Palindrome Product\n",
      "==========================\n",
      "A palindromic number reads the same both ways. The largest palindrome made from the product of the two 2 digit numbers is 9009=91x99.\n",
      "\n",
      "Find the largest palindrome made from the product of two 3 digit numbers."
     ]
    },
    {
     "cell_type": "code",
     "collapsed": false,
     "input": [
      "def is_palindrome(n):\n",
      "    x=str(n)\n",
      "    y=str(n)[::-1]\n",
      "    if x==y:\n",
      "        return True\n",
      "    else:\n",
      "        return False"
     ],
     "language": "python",
     "metadata": {},
     "outputs": [],
     "prompt_number": 12
    },
    {
     "cell_type": "code",
     "collapsed": false,
     "input": [
      "prod=0\n",
      "pal=0\n",
      "x=0\n",
      "y=0\n",
      "for a in range(100,1000):\n",
      "    for b in range(100,1000):\n",
      "        prod=a*b\n",
      "        ps=str(prod)\n",
      "        if prod>pal and (is_palindrome(prod)==True):\n",
      "            pal=prod\n",
      "            x=a\n",
      "            y=b\n",
      "print x,y\n",
      "print pal"
     ],
     "language": "python",
     "metadata": {},
     "outputs": [
      {
       "output_type": "stream",
       "stream": "stdout",
       "text": [
        "913 993\n",
        "906609\n"
       ]
      }
     ],
     "prompt_number": 21
    },
    {
     "cell_type": "code",
     "collapsed": false,
     "input": [],
     "language": "python",
     "metadata": {},
     "outputs": []
    }
   ],
   "metadata": {}
  }
 ]
}