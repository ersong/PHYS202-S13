{
 "metadata": {
  "name": "Tuesday Exercises"
 },
 "nbformat": 3,
 "nbformat_minor": 0,
 "worksheets": [
  {
   "cells": [
    {
     "cell_type": "markdown",
     "metadata": {},
     "source": [
      "Example 1:\n",
      "==========\n",
      "\n",
      "Use the trapezoidal rule to calculate the integral of $x^4-2x+1$  from   $x=0$    to     $x=2.$"
     ]
    },
    {
     "cell_type": "code",
     "collapsed": false,
     "input": [
      "f = lambda x: x**4-2*x+1\n",
      "N=10\n",
      "a=0.\n",
      "b=2.\n",
      "h=(b-a)/N\n",
      "s=.5*f(a)+.5*f(b)\n",
      "for k in range(1,N):\n",
      "    s+=f(a+k*h)\n",
      "print(h*s)"
     ],
     "language": "python",
     "metadata": {},
     "outputs": [
      {
       "output_type": "stream",
       "stream": "stdout",
       "text": [
        "4.50656\n"
       ]
      }
     ],
     "prompt_number": 4
    },
    {
     "cell_type": "markdown",
     "metadata": {},
     "source": [
      "Exercise 1:\n",
      "===========\n",
      "\n",
      "What are the results for N = 100 and N = 1000?"
     ]
    },
    {
     "cell_type": "code",
     "collapsed": false,
     "input": [
      "def TrapInt(f,a,b,N):\n",
      "    \"\"\"Input function f, starting point a, end point b, #steps N.\"\"\"\n",
      "    h=(float(b)-float(a))/N#h=dx?\n",
      "    s=.5*f(a)+.5*f(b)#average height y\n",
      "    for k in range(1,N):\n",
      "        s+=f(a+k*h)\n",
      "    return h*s#base\n",
      "print \"For N=100: \"+str(TrapInt(lambda x: x**4-2*x+1,0,2,100))\n",
      "print \"For N=1000: \"+str(TrapInt(lambda x: x**4-2*x+1,0,2,1000))"
     ],
     "language": "python",
     "metadata": {},
     "outputs": [
      {
       "output_type": "stream",
       "stream": "stdout",
       "text": [
        "For N=100: 4.401066656\n",
        "For N=1000: 4.40001066667\n"
       ]
      }
     ],
     "prompt_number": 5
    },
    {
     "cell_type": "markdown",
     "metadata": {},
     "source": [
      "Exercise 2:\n",
      "===========\n",
      "\n",
      "(a) Write code to calculate and approximate value for the integral from example1 using Simpson's rule for 10 slices.\n"
     ]
    },
    {
     "cell_type": "code",
     "collapsed": false,
     "input": [
      "def SimpInt(f,a,b,N):\n",
      "    \"\"\"Input function f, starting point a, end point b, #steps N.\"\"\"\n",
      "    h=float((float(b)-float(a))/N)\n",
      "    s=(1./3)*h*(f(a)+f(b))\n",
      "    for k in range(1,N/2+1):\n",
      "        s+=float((1./3)*h*4*f(a+(2*k-1)*h))\n",
      "    for l in range(1,N/2):\n",
      "        s+=float((1./3)*h*2*f(a+2*l*h))\n",
      "    return s\n",
      "print \"For N=10: \"+str(SimpInt(lambda x: x**4-2*x+1,0.,2.,10))"
     ],
     "language": "python",
     "metadata": {},
     "outputs": [
      {
       "output_type": "stream",
       "stream": "stdout",
       "text": [
        "For N=10: 4.40042666667\n"
       ]
      }
     ],
     "prompt_number": 6
    },
    {
     "cell_type": "markdown",
     "metadata": {},
     "source": [
      "(b) Run the code and compare your result to the known correct value of 4.4. What is the fractional error on your calculation?"
     ]
    },
    {
     "cell_type": "code",
     "collapsed": false,
     "input": [
      "s1=SimpInt(lambda x: x**4-2*x+1,0,2,10)\n",
      "print \"Simpson's Rule: \"+str(s1)\n",
      "print \"Actual: \"+str(4.4)\n",
      "print \"Fractional Error = \"+str(abs(s1-4.4)/(4.4))"
     ],
     "language": "python",
     "metadata": {},
     "outputs": [
      {
       "output_type": "stream",
       "stream": "stdout",
       "text": [
        "Simpson's Rule: 4.40042666667\n",
        "Actual: 4.4\n",
        "Fractional Error = 9.69696969697e-05\n"
       ]
      }
     ],
     "prompt_number": 7
    },
    {
     "cell_type": "markdown",
     "metadata": {},
     "source": [
      "(c) Modify the code to use 100 slices instead, then a thousand. How do the results compare with those for the trapezoidal rule with the same number of slices?"
     ]
    },
    {
     "cell_type": "code",
     "collapsed": false,
     "input": [
      "print \"Simpsons for N=100: \"+str(SimpInt(lambda x: x**4-2*x+1,0,2,100))\n",
      "print \"Trapezoid for N=100: \"+str(TrapInt(lambda x: x**4-2*x+1,0,2,100))\n",
      "print \"Simpsons for N=100: \"+str(SimpInt(lambda x: x**4-2*x+1,0,2,1000))\n",
      "print \"Trapezoid for N=100: \"+str(TrapInt(lambda x: x**4-2*x+1,0,2,1000))"
     ],
     "language": "python",
     "metadata": {},
     "outputs": [
      {
       "output_type": "stream",
       "stream": "stdout",
       "text": [
        "Simpsons for N=100: 4.40000004267\n",
        "Trapezoid for N=100: 4.401066656\n",
        "Simpsons for N=100: 4.4\n",
        "Trapezoid for N=100: 4.40001066667\n"
       ]
      }
     ],
     "prompt_number": 8
    },
    {
     "cell_type": "code",
     "collapsed": false,
     "input": [
      "import scipy.integrate as integrate\n",
      "#help(integrate)"
     ],
     "language": "python",
     "metadata": {},
     "outputs": [],
     "prompt_number": 9
    },
    {
     "cell_type": "code",
     "collapsed": false,
     "input": [
      "from scipy.special import jv\n",
      "result =integrate.quad(lambda x: jv(2.5,x),0,4.5)\n",
      "print result"
     ],
     "language": "python",
     "metadata": {},
     "outputs": [
      {
       "output_type": "stream",
       "stream": "stdout",
       "text": [
        "(1.1178179380783249, 7.866317182537226e-09)\n"
       ]
      }
     ],
     "prompt_number": 10
    },
    {
     "cell_type": "code",
     "collapsed": false,
     "input": [
      "from scipy.special import fresnel\n",
      "I=sqrt(2/pi)*(18./27*sqrt(2)*cos(4.5)-4./27*sqrt(2)*sin(4.5)+sqrt(2*pi)*fresnel(3/sqrt(pi))[0])\n",
      "print I"
     ],
     "language": "python",
     "metadata": {},
     "outputs": [
      {
       "output_type": "stream",
       "stream": "stdout",
       "text": [
        "1.11781793809\n"
       ]
      }
     ],
     "prompt_number": 11
    },
    {
     "cell_type": "code",
     "collapsed": false,
     "input": [
      "print abs(result[0]-I)"
     ],
     "language": "python",
     "metadata": {},
     "outputs": [
      {
       "output_type": "stream",
       "stream": "stdout",
       "text": [
        "1.03761443881e-11\n"
       ]
      }
     ],
     "prompt_number": 12
    },
    {
     "cell_type": "markdown",
     "metadata": {},
     "source": [
      "Exercise 3\n",
      "==========\n",
      "\n",
      "On Polylearn you'll find a file called velcities.txt, which contains two columns of numbers, the first representing time t in seconds and the second x-velocity in meters per second of a particle, measured once every second from time t=0 to t=100.\n",
      "\n",
      "(a) Read in the data and use trapz, simps, and romb to approximate the distance traveled by the particle in the x direction as a function of time."
     ]
    },
    {
     "cell_type": "code",
     "collapsed": false,
     "input": [
      "from scipy import *\n",
      "data = loadtxt(\"velocities.txt\",float)\n",
      "t = data[:,0]\n",
      "v = data[:,1]\n",
      "s1=integrate.trapz(v[0:98],t[0:98])\n",
      "s2=integrate.simps(v[0:98],t[0:98])\n",
      "#s3=\n",
      "print \"trapz: \"+str(s1)\n",
      "print \"simps: \"+str(s2)\n",
      "print integrate.romb(v[0:65],1)+integrate.romb(v[65:65+1+32],1)#+integrate.romb(v[98:101],1)\n",
      "\n",
      "#print \"romb:\" +str(s3)"
     ],
     "language": "python",
     "metadata": {},
     "outputs": [
      {
       "output_type": "stream",
       "stream": "stdout",
       "text": [
        "trapz: 7.327916\n",
        "simps: 7.33110825\n",
        "7.96896420762\n"
       ]
      }
     ],
     "prompt_number": 15
    },
    {
     "cell_type": "code",
     "collapsed": false,
     "input": [
      "print len(v)"
     ],
     "language": "python",
     "metadata": {},
     "outputs": [
      {
       "output_type": "stream",
       "stream": "stdout",
       "text": [
        "101\n"
       ]
      }
     ],
     "prompt_number": 14
    },
    {
     "cell_type": "markdown",
     "metadata": {},
     "source": [
      "(b) How different are the results? Print the differences between your results for trapz vs. simps, trapz vs. romb and simps vs. romb"
     ]
    },
    {
     "cell_type": "code",
     "collapsed": false,
     "input": [
      "print \"trapz vs. simps: \"+str(abs(s1-s2))\n",
      "print \"trapz vs. romb: \"\n",
      "print \"simps vs. romb: \""
     ],
     "language": "python",
     "metadata": {},
     "outputs": [
      {
       "ename": "NameError",
       "evalue": "name 's1' is not defined",
       "output_type": "pyerr",
       "traceback": [
        "\u001b[1;31m---------------------------------------------------------------------------\u001b[0m\n\u001b[1;31mNameError\u001b[0m                                 Traceback (most recent call last)",
        "\u001b[1;32m<ipython-input-2-65e555b6f943>\u001b[0m in \u001b[0;36m<module>\u001b[1;34m()\u001b[0m\n\u001b[1;32m----> 1\u001b[1;33m \u001b[1;32mprint\u001b[0m \u001b[1;34m\"trapz vs. simps: \"\u001b[0m\u001b[1;33m+\u001b[0m\u001b[0mstr\u001b[0m\u001b[1;33m(\u001b[0m\u001b[0mabs\u001b[0m\u001b[1;33m(\u001b[0m\u001b[0ms1\u001b[0m\u001b[1;33m-\u001b[0m\u001b[0ms2\u001b[0m\u001b[1;33m)\u001b[0m\u001b[1;33m)\u001b[0m\u001b[1;33m\u001b[0m\u001b[0m\n\u001b[0m\u001b[0;32m      2\u001b[0m \u001b[1;32mprint\u001b[0m \u001b[1;34m\"trapz vs. romb: \"\u001b[0m\u001b[1;33m\u001b[0m\u001b[0m\n\u001b[0;32m      3\u001b[0m \u001b[1;32mprint\u001b[0m \u001b[1;34m\"simps vs. romb: \"\u001b[0m\u001b[1;33m\u001b[0m\u001b[0m\n",
        "\u001b[1;31mNameError\u001b[0m: name 's1' is not defined"
       ]
      }
     ],
     "prompt_number": 2
    },
    {
     "cell_type": "markdown",
     "metadata": {},
     "source": [
      "(c) Make a graph that shows, on the same plot, both the original velocity curve and the distances traveled as a function of time."
     ]
    },
    {
     "cell_type": "code",
     "collapsed": false,
     "input": [
      "plot(t,v)\n",
      "xlabel(\"Time (s)\", fontsize=15)\n",
      "ylabel(\"Dist+Velocity\",fontsize=15)"
     ],
     "language": "python",
     "metadata": {},
     "outputs": [
      {
       "output_type": "pyout",
       "prompt_number": 3,
       "text": [
        "<matplotlib.text.Text at 0x82c2a20>"
       ]
      },
      {
       "output_type": "display_data",
       "png": "[encoded data removed]"
      }
     ],
     "prompt_number": 3
    },
    {
     "cell_type": "code",
     "collapsed": false,
     "input": [],
     "language": "python",
     "metadata": {},
     "outputs": []
    }
   ],
   "metadata": {}
  }
 ]
}