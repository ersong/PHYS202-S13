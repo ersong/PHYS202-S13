{
 "metadata": {
  "name": "Project Euler 5"
 },
 "nbformat": 3,
 "nbformat_minor": 0,
 "worksheets": [
  {
   "cells": [
    {
     "cell_type": "markdown",
     "metadata": {},
     "source": [
      "Smallest multiple\n",
      "==================\n",
      "Problem 5\n",
      "---------\n",
      "2520 is the smallest number that can be divided by each of the numbers from 1 to 10 without any remainder.\n",
      "\n",
      "What is the smallest positive number that is evenly divisible by all of the numbers from 1 to 20?"
     ]
    },
    {
     "cell_type": "code",
     "collapsed": false,
     "input": [
      "def is_prime(n):\n",
      "    factors=[]\n",
      "    if n>1:\n",
      "        for i in range(2,int(n),1):\n",
      "            if n%i==0:\n",
      "                factors.append(i)\n",
      "        if len(factors)==0:\n",
      "            return True\n",
      "        else:\n",
      "            return False\n",
      "    else:\n",
      "        return False\n",
      "print is_prime(1)\n",
      "print is_prime(3)\n",
      "print is_prime(4)"
     ],
     "language": "python",
     "metadata": {},
     "outputs": [
      {
       "output_type": "stream",
       "stream": "stdout",
       "text": [
        "False\n",
        "True\n",
        "False\n"
       ]
      }
     ],
     "prompt_number": 40
    },
    {
     "cell_type": "code",
     "collapsed": false,
     "input": [
      "def smallest_multiple(factors):\n",
      "    m=1\n",
      "    f=zeros(factors)\n",
      "    for i in range(factors):\n",
      "        f[i]=i+1\n",
      "    for a in f:\n",
      "        if m%a!=0:\n",
      "            if is_prime(a):\n",
      "                m*=a\n",
      "                print a,m\n",
      "            else:\n",
      "                m+=1\n",
      "                print a,m\n",
      "    return m\n",
      "        \n",
      "print smallest_multiple(10)"
     ],
     "language": "python",
     "metadata": {},
     "outputs": [
      {
       "output_type": "stream",
       "stream": "stdout",
       "text": [
        "2.0 2.0\n",
        "3.0 6.0\n",
        "4.0 7.0\n",
        "5.0 35.0\n",
        "6.0 36.0\n",
        "7.0 252.0\n",
        "8.0 253.0\n",
        "9.0 254.0\n",
        "10.0 255.0\n",
        "255.0\n"
       ]
      }
     ],
     "prompt_number": 45
    },
    {
     "cell_type": "code",
     "collapsed": false,
     "input": [],
     "language": "python",
     "metadata": {},
     "outputs": []
    }
   ],
   "metadata": {}
  }
 ]
}