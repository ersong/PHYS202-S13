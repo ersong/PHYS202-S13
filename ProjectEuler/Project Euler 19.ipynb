{
 "metadata": {
  "name": "Project Euler 19"
 },
 "nbformat": 3,
 "nbformat_minor": 0,
 "worksheets": [
  {
   "cells": [
    {
     "cell_type": "code",
     "collapsed": false,
     "input": [
      "def find_tri_n(ind):\n",
      "    total=0\n",
      "    for i in range(1,ind+1):\n",
      "        total+=i\n",
      "    return total\n",
      "print find_tri_n(1)#should be 1\n",
      "print find_tri_n(2)#should be 3\n",
      "print find_tri_n(3)#should be 6\n",
      "print find_tri_n(4)#should be 10\n",
      "print find_tri_n(5)#should be 15\n",
      "print find_tri_n(6)#should be 21\n",
      "print find_tri_n(7)#should be 28"
     ],
     "language": "python",
     "metadata": {},
     "outputs": [
      {
       "output_type": "stream",
       "stream": "stdout",
       "text": [
        "1\n",
        "3\n",
        "6\n",
        "10\n",
        "15\n",
        "21\n",
        "28\n"
       ]
      }
     ],
     "prompt_number": 1
    },
    {
     "cell_type": "code",
     "collapsed": false,
     "input": [
      "def num_factors(num):\n",
      "    factors=0\n",
      "    for n in range(1,num+1):\n",
      "        if num%n==0:\n",
      "            factors+=1\n",
      "    return factors\n",
      "print num_factors(1)#should be 1\n",
      "print num_factors(3)#should be 2\n",
      "print num_factors(6)#should be 4"
     ],
     "language": "python",
     "metadata": {},
     "outputs": [
      {
       "output_type": "stream",
       "stream": "stdout",
       "text": [
        "1\n",
        "2\n",
        "4\n"
       ]
      }
     ],
     "prompt_number": 2
    },
    {
     "cell_type": "code",
     "collapsed": false,
     "input": [
      "def tri_by_n_fact(f):\n",
      "    i=1\n",
      "    while num_factors(find_tri_n(i))<f:\n",
      "        i+=1\n",
      "    if num_factors(find_tri_n(i))>=f:\n",
      "        return find_tri_n(i)"
     ],
     "language": "python",
     "metadata": {},
     "outputs": [],
     "prompt_number": 3
    },
    {
     "cell_type": "code",
     "collapsed": false,
     "input": [
      "print tri_by_n_fact(1)#Should be 1\n",
      "print tri_by_n_fact(5)#Should be 28"
     ],
     "language": "python",
     "metadata": {},
     "outputs": [
      {
       "output_type": "stream",
       "stream": "stdout",
       "text": [
        "1\n",
        "28\n"
       ]
      }
     ],
     "prompt_number": 4
    },
    {
     "cell_type": "code",
     "collapsed": false,
     "input": [
      "print tri_by_n_fact(500)#assignment"
     ],
     "language": "python",
     "metadata": {},
     "outputs": [],
     "prompt_number": "*"
    },
    {
     "cell_type": "code",
     "collapsed": false,
     "input": [],
     "language": "python",
     "metadata": {},
     "outputs": []
    }
   ],
   "metadata": {}
  }
 ]
}