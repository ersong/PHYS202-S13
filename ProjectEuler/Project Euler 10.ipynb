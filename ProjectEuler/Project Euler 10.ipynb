{
 "metadata": {
  "name": "Project Euler 10"
 },
 "nbformat": 3,
 "nbformat_minor": 0,
 "worksheets": [
  {
   "cells": [
    {
     "cell_type": "code",
     "collapsed": false,
     "input": [
      "def is_prime(n):\n",
      "    factors=[]\n",
      "    if n>1:\n",
      "        for i in range(2,int(n),1):\n",
      "            if n%i==0:\n",
      "                factors.append(i)\n",
      "        if len(factors)==0:\n",
      "            return True\n",
      "        else:\n",
      "            return False\n",
      "    else:\n",
      "        return False"
     ],
     "language": "python",
     "metadata": {},
     "outputs": [],
     "prompt_number": 1
    },
    {
     "cell_type": "code",
     "collapsed": false,
     "input": [
      "def sum_primes(lim):\n",
      "    total=0\n",
      "    for i in range(0,lim+1):\n",
      "        if is_prime(i):\n",
      "            total+=i\n",
      "    return total\n",
      "print sum_primes(10)#should be 17"
     ],
     "language": "python",
     "metadata": {},
     "outputs": [
      {
       "output_type": "stream",
       "stream": "stdout",
       "text": [
        "17\n"
       ]
      }
     ],
     "prompt_number": 2
    },
    {
     "cell_type": "code",
     "collapsed": false,
     "input": [
      "print sum_primes(2000000)#2 million"
     ],
     "language": "python",
     "metadata": {},
     "outputs": [],
     "prompt_number": "*"
    },
    {
     "cell_type": "code",
     "collapsed": false,
     "input": [],
     "language": "python",
     "metadata": {},
     "outputs": []
    }
   ],
   "metadata": {}
  }
 ]
}