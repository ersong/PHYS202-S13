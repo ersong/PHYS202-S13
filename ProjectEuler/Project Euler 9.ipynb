{
 "metadata": {
  "name": "Project Euler 9"
 },
 "nbformat": 3,
 "nbformat_minor": 0,
 "worksheets": [
  {
   "cells": [
    {
     "cell_type": "code",
     "collapsed": false,
     "input": [
      "def triplet_prod(s):#s=sum\n",
      "    for a in range (1,s):\n",
      "        for b in range (1,s):\n",
      "            for c in range (1,s):\n",
      "                if a+b+c==s and a<b and b<c and (a**2+b**2==c**2):\n",
      "                    print \"a\",a\n",
      "                    print \"b\",b\n",
      "                    print \"c\",c\n",
      "                    return a*b*c"
     ],
     "language": "python",
     "metadata": {},
     "outputs": [],
     "prompt_number": 8
    },
    {
     "cell_type": "code",
     "collapsed": false,
     "input": [
      "print triplet_prod(12)#test 3+4+5=12, product=60"
     ],
     "language": "python",
     "metadata": {},
     "outputs": [
      {
       "output_type": "stream",
       "stream": "stdout",
       "text": [
        "a 3\n",
        "b 4\n",
        "c 5\n",
        "60\n"
       ]
      }
     ],
     "prompt_number": 9
    },
    {
     "cell_type": "code",
     "collapsed": false,
     "input": [
      "print triplet_prod(1000)"
     ],
     "language": "python",
     "metadata": {},
     "outputs": [
      {
       "output_type": "stream",
       "stream": "stdout",
       "text": [
        "a 200\n",
        "b 375\n",
        "c 425\n",
        "31875000\n"
       ]
      }
     ],
     "prompt_number": 10
    },
    {
     "cell_type": "code",
     "collapsed": false,
     "input": [],
     "language": "python",
     "metadata": {},
     "outputs": []
    }
   ],
   "metadata": {}
  }
 ]
}