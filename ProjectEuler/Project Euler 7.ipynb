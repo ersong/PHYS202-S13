{
 "metadata": {
  "name": "Project Euler 7"
 },
 "nbformat": 3,
 "nbformat_minor": 0,
 "worksheets": [
  {
   "cells": [
    {
     "cell_type": "markdown",
     "metadata": {},
     "source": [
      "10001st prime\n",
      "=============\n",
      "Problem 7\n",
      "==========\n",
      "By listing the first six prime numbers: 2, 3, 5, 7, 11, and 13, we can see that the 6th prime is 13.\n",
      "\n",
      "What is the 10001st prime number?"
     ]
    },
    {
     "cell_type": "code",
     "collapsed": false,
     "input": [
      "def is_prime(n):\n",
      "    factors=[]\n",
      "    if n>1:\n",
      "        for i in range(2,int(n),1):\n",
      "            if n%i==0:\n",
      "                factors.append(i)\n",
      "        if len(factors)==0:\n",
      "            return True\n",
      "        else:\n",
      "            return False\n",
      "    else:\n",
      "        return False\n",
      "print is_prime(1)\n",
      "print is_prime(3)\n",
      "print is_prime(4)"
     ],
     "language": "python",
     "metadata": {},
     "outputs": [
      {
       "output_type": "stream",
       "stream": "stdout",
       "text": [
        "False\n",
        "True\n",
        "False\n"
       ]
      }
     ],
     "prompt_number": 2
    },
    {
     "cell_type": "code",
     "collapsed": false,
     "input": [
      "def find_prime(n):\n",
      "    i=1\n",
      "    j=1\n",
      "    while i<=n:\n",
      "        if is_prime(j):\n",
      "            i+=1\n",
      "            j+=1\n",
      "        else:\n",
      "            j+=1\n",
      "    return j-1\n",
      "print find_prime(3)#should be 5\n",
      "print find_prime(5)#should be 11\n",
      "print find_prime(6)#should be 13\n",
      "print find_prime(8)#should be 19"
     ],
     "language": "python",
     "metadata": {},
     "outputs": [
      {
       "output_type": "stream",
       "stream": "stdout",
       "text": [
        "5\n",
        "11\n",
        "13\n",
        "19\n"
       ]
      }
     ],
     "prompt_number": 15
    },
    {
     "cell_type": "code",
     "collapsed": false,
     "input": [
      "print find_prime(10001)"
     ],
     "language": "python",
     "metadata": {},
     "outputs": [
      {
       "output_type": "stream",
       "stream": "stdout",
       "text": [
        "104743\n"
       ]
      }
     ],
     "prompt_number": 14
    },
    {
     "cell_type": "code",
     "collapsed": false,
     "input": [],
     "language": "python",
     "metadata": {},
     "outputs": []
    }
   ],
   "metadata": {}
  }
 ]
}