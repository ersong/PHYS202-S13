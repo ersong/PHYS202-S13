{
 "metadata": {
  "name": "Project Euler 31"
 },
 "nbformat": 3,
 "nbformat_minor": 0,
 "worksheets": [
  {
   "cells": [
    {
     "cell_type": "markdown",
     "metadata": {},
     "source": [
      "Coin sums\n",
      "==========\n",
      "Problem 31\n",
      "------------\n",
      "\n",
      "In England the currency is made up of pound, \u00a3, and pence, p, and there are eight coins in general circulation:\n",
      "1p, 2p, 5p, 10p, 20p, 50p, \u00a31 (100p) and \u00a32 (200p).\n",
      "\n",
      "It is possible to make \u00a32 in the following way:\n",
      "1x\u00a31 + 1x50p + 2x20p + 1x5p + 1x2p + 3x1p\n",
      "\n",
      "How many different ways can \u00a32 be made using any number of coins?"
     ]
    },
    {
     "cell_type": "code",
     "collapsed": false,
     "input": [
      "p1=1\n",
      "p2=2\n",
      "p5=5\n",
      "p10=10\n",
      "p20=20\n",
      "p50=50\n",
      "l1=100\n",
      "l2=200\n",
      "#"
     ],
     "language": "python",
     "metadata": {},
     "outputs": [],
     "prompt_number": 2
    },
    {
     "cell_type": "code",
     "collapsed": false,
     "input": [
      "methods=0\n",
      "#f=a*l2+b*l1+c*p50*d*p20+e*p10+f*p5+g*p2+h*p1\n",
      "for a in range(0,200/l2+1):\n",
      "    if a*l2==200:\n",
      "        methods+=1\n",
      "   #     print methods\n",
      "    elif a*l2<200:\n",
      "        for b in range(0,200/l1+1):\n",
      "            if a*l2+b*l1==200:\n",
      "                methods+=1\n",
      "         #       print methods\n",
      "            elif a*l2+b*l1<200:\n",
      "                for c in range(0,200/p50+1):\n",
      "                    if a*l2+b*l1+c*p50==200:\n",
      "                        methods+=1\n",
      "                #        print methods\n",
      "                    elif a*l2+b*l1+c*p50<200:\n",
      "                        for d in range(0,200/p20+1):\n",
      "                            if a*l2+b*l1+c*p50+d*p20==200:\n",
      "                                methods+=1\n",
      "                           #     print methods\n",
      "                            elif a*l2+b*l1+c*p50+d*p20<200:\n",
      "                                for e in range(0,200/p10+1):\n",
      "                                    if a*l2+b*l1+c*p50+d*p20+e*p10==200:\n",
      "                                        methods+=1\n",
      "                                  #      print methods\n",
      "                                    elif a*l2+b*l1+c*p50+d*p20+e*p10<200:\n",
      "                                        for f in range(0,200/p5+1):\n",
      "                                            if a*l2+b*l1+c*p50+d*p20+e*p10+f*p5==200:\n",
      "                                                methods+=1\n",
      "                                        #        print methods\n",
      "                                            elif a*l2+b*l1+c*p50+d*p20+e*p10+f*p5<200:\n",
      "                                                for g in range(0,200/p2+1):\n",
      "                                                    if a*l2+b*l1+c*p50+d*p20+e*p10+f*p5+g*p2==200:\n",
      "                                                        methods+=1\n",
      "                                           #             print methods\n",
      "                                                    elif a*l2+b*l1+c*p50+d*p20+e*p10+f*p5+g*p2<200:\n",
      "                                                        for h in range(0,200/p1+1):\n",
      "                                                            if a*l2+b*l1+c*p50*d*p20+e*p10+f*p5+g*p2+h*p1==200:\n",
      "                                                                methods+=1\n",
      "                   #                                             print methods\n",
      "print methods"
     ],
     "language": "python",
     "metadata": {},
     "outputs": [
      {
       "output_type": "stream",
       "stream": "stdout",
       "text": [
        "61774\n"
       ]
      }
     ],
     "prompt_number": 3
    },
    {
     "cell_type": "code",
     "collapsed": false,
     "input": [
      "#I have no way to know if this is right"
     ],
     "language": "python",
     "metadata": {},
     "outputs": []
    }
   ],
   "metadata": {}
  }
 ]
}