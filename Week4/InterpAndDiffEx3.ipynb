{
 "metadata": {
  "name": "InterpAndDiffEx3"
 },
 "nbformat": 3,
 "nbformat_minor": 0,
 "worksheets": [
  {
   "cells": [
    {
     "cell_type": "markdown",
     "metadata": {},
     "source": [
      "1. It is common to test functions where you know the answer. Let's test the dipolePotential()\n",
      "function that you previously wrote and saved in a python script to see that the function is\n",
      "zero along the bisector between the charges. First, set up a grid and evaluate the function."
     ]
    },
    {
     "cell_type": "code",
     "collapsed": false,
     "input": [
      "from Electrostatics import *\n",
      "x,y = meshgrid(arange(-5,5,0.501),arange(-5,5,0.501))\n",
      "Vdipole = dipolePotential(x,y,1e-9,2.,0);\n",
      "contour(x,y,Vdipole,cmap=cm.Accent)"
     ],
     "language": "python",
     "metadata": {},
     "outputs": [
      {
       "output_type": "pyout",
       "prompt_number": 3,
       "text": [
        "<matplotlib.contour.QuadContourSet instance at 0x0000000008758948>"
       ]
      },
      {
       "output_type": "display_data",
       "png": "[encoded data removed]"
      }
     ],
     "prompt_number": 3
    },
    {
     "cell_type": "markdown",
     "metadata": {},
     "source": [
      "(a) Use a boolean mask to locate the positions where y=0."
     ]
    },
    {
     "cell_type": "code",
     "collapsed": false,
     "input": [
      "mask=(y==0)"
     ],
     "language": "python",
     "metadata": {},
     "outputs": [],
     "prompt_number": 5
    },
    {
     "cell_type": "markdown",
     "metadata": {},
     "source": [
      "(b) Check that Vdipole for these locations is zero. i.e. print the value of Vdipole for these\n",
      "locations using your mask from part (a)."
     ]
    },
    {
     "cell_type": "code",
     "collapsed": false,
     "input": [
      "print Vdipole"
     ],
     "language": "python",
     "metadata": {},
     "outputs": [
      {
       "output_type": "stream",
       "stream": "stdout",
       "text": [
        "[[ -2.50349364e-01  -2.60821293e-01  -2.67631277e-01  -2.68930058e-01\n",
        "   -2.62582960e-01  -2.46413756e-01  -2.18629866e-01  -1.78389489e-01\n",
        "   -1.26363685e-01  -6.50563668e-02   1.34226465e-03   6.76336643e-02\n",
        "    1.28641107e-01   1.80231993e-01   2.19976381e-01   2.47272188e-01\n",
        "    2.63010671e-01   2.69009975e-01   2.67451613e-01   2.60462382e-01]\n",
        " [ -2.91551234e-01  -3.08811004e-01  -3.22625043e-01  -3.30459130e-01\n",
        "   -3.29111453e-01  -3.14977967e-01  -2.84678896e-01  -2.36057062e-01\n",
        "   -1.69324144e-01  -8.78689059e-02   1.81775448e-03   9.13299666e-02\n",
        "    1.72303706e-01   2.38356239e-01   2.86231476e-01   3.15831965e-01\n",
        "    3.29385961e-01   3.30299204e-01   3.22169023e-01   3.08173608e-01]\n",
        " [ -3.39214817e-01  -3.66000237e-01  -3.90332983e-01  -4.08912144e-01\n",
        "   -4.17085324e-01  -4.08994073e-01  -3.78387579e-01  -3.20330552e-01\n",
        "   -2.33554803e-01  -1.22468250e-01   2.54235935e-03   1.27255571e-01\n",
        "    2.37534688e-01   3.23206670e-01   3.80111309e-01   4.09708441e-01\n",
        "    4.17028893e-01   4.08334511e-01   3.89445668e-01   3.64960330e-01]\n",
        " [ -3.93446507e-01  -4.33268530e-01  -4.73015451e-01  -5.08766218e-01\n",
        "   -5.34132048e-01  -5.39881290e-01  -5.14649074e-01  -4.47651615e-01\n",
        "   -3.33517610e-01  -1.77326043e-01   3.69832649e-03   1.84187164e-01\n",
        "    3.38954352e-01   4.51222216e-01   5.16395252e-01   5.40166699e-01\n",
        "    5.33425070e-01   5.07486419e-01   4.71472120e-01   4.31661169e-01]\n",
        " [ -4.53642255e-01  -5.10721420e-01  -5.72366813e-01  -6.34753346e-01\n",
        "   -6.90033491e-01  -7.24509418e-01  -7.18049786e-01  -6.47556277e-01\n",
        "   -4.96738177e-01  -2.69097248e-01   5.64754078e-03   2.79364873e-01\n",
        "    5.04339566e-01   6.51849607e-01   7.19386351e-01   7.23765712e-01\n",
        "    6.88112521e-01   6.32330100e-01   5.69855725e-01   5.08339776e-01]\n",
        " [ -5.18077863e-01  -5.96969189e-01  -6.88407470e-01  -7.90530063e-01\n",
        "   -8.96001420e-01  -9.87033584e-01  -1.02992274e+00  -9.75847446e-01\n",
        "   -7.79258876e-01  -4.32987636e-01   9.16293387e-03   4.49198336e-01\n",
        "    7.90119149e-01   9.80509321e-01   1.02971555e+00   9.84039688e-01\n",
        "    8.91903821e-01   7.86314232e-01   6.84527581e-01   5.93578096e-01]\n",
        " [ -5.83498010e-01  -6.88201896e-01  -8.17669435e-01  -9.75704099e-01\n",
        "   -1.16130161e+00  -1.35893490e+00  -1.52003522e+00  -1.54458027e+00\n",
        "   -1.30531843e+00  -7.49926171e-01   1.60312188e-02   7.77331546e-01\n",
        "    1.32106526e+00   1.54787928e+00   1.51538338e+00   1.35126986e+00\n",
        "    1.15348169e+00   9.68831399e-01   8.11971139e-01   6.83578548e-01]\n",
        " [ -6.44912851e-01  -7.77365288e-01  -9.50886565e-01  -1.18053770e+00\n",
        "   -1.48379725e+00  -1.87005919e+00  -2.30118442e+00  -2.59705342e+00\n",
        "   -2.38525166e+00  -1.42387785e+00   3.06675305e-02   1.47478910e+00\n",
        "    2.40801631e+00   2.59215677e+00   2.28466959e+00   1.85322825e+00\n",
        "    1.47009137e+00   1.17007381e+00   9.42996570e-01   7.71377269e-01]\n",
        " [ -6.95921840e-01  -8.54134896e-01  -1.07143024e+00  -1.37943601e+00\n",
        "   -1.83084737e+00  -2.51005828e+00  -3.51488419e+00  -4.71595804e+00\n",
        "   -4.97072180e+00  -3.01178477e+00   6.36739440e-02   3.12249380e+00\n",
        "    5.00229825e+00   4.67373037e+00   3.46822509e+00   2.47723279e+00\n",
        "    1.80913784e+00   1.36483298e+00   1.06128175e+00   8.46846325e-01]\n",
        " [ -7.29832176e-01  -9.06592291e-01  -1.15711632e+00  -1.52947956e+00\n",
        "   -2.11865302e+00  -3.13335402e+00  -5.09291298e+00  -9.28587026e+00\n",
        "   -1.37820401e+01  -6.91292143e+00   1.28711790e-01   7.23954475e+00\n",
        "    1.38197106e+01   9.05499534e+00   4.98388357e+00   3.07991582e+00\n",
        "    2.08896954e+00   1.51132690e+00   1.14520372e+00   8.98348594e-01]\n",
        " [ -7.41457757e-01  -9.24845606e-01  -1.18759376e+00  -1.58472022e+00\n",
        "   -2.23102774e+00  -3.40562244e+00  -5.97902879e+00  -1.44750755e+01\n",
        "   -6.90315481e+02  -1.15097108e+01   1.77942134e-01   1.23032092e+01\n",
        "    5.65185197e+02   1.38002797e+01   5.82222123e+00   3.34154460e+00\n",
        "    2.19789488e+00   1.56516747e+00   1.17502186e+00   9.16256935e-01]\n",
        " [ -7.28879780e-01  -9.05103090e-01  -1.15464513e+00  -1.52504478e+00\n",
        "   -2.10978871e+00  -3.11263603e+00  -5.03146363e+00  -9.03457123e+00\n",
        "   -1.30833508e+01  -6.69111785e+00   1.25655642e-01   7.00182994e+00\n",
        "    1.31210742e+01   8.81849492e+00   4.92539265e+00   3.05996591e+00\n",
        "    2.08036922e+00   1.50700234e+00   1.14278527e+00   8.96887250e-01]\n",
        " [ -6.94171014e-01  -8.51457749e-01  -1.06713118e+00  -1.37210454e+00\n",
        "   -1.81739208e+00  -2.48318124e+00  -3.45713132e+00  -4.59710684e+00\n",
        "   -4.80956225e+00  -2.91692825e+00   6.17920676e-02   3.02376061e+00\n",
        "    4.84077903e+00   4.55772906e+00   3.41224195e+00   2.45113084e+00\n",
        "    1.79602545e+00   1.35766551e+00   1.05706772e+00   8.44216476e-01]\n",
        " [ -6.42615056e-01  -7.73965980e-01  -9.45677043e-01  -1.17224270e+00\n",
        "   -1.47008828e+00  -1.84684234e+00  -2.26258602e+00  -2.54031434e+00\n",
        "   -2.32368951e+00  -1.38512716e+00   2.98305642e-02   1.43467748e+00\n",
        "    2.34613158e+00   2.53603545e+00   2.24679362e+00   1.83049648e+00\n",
        "    1.45666290e+00   1.16193748e+00   9.37878767e-01   7.68032869e-01]\n",
        " [ -5.80924539e-01  -6.84541184e-01  -8.12348745e-01  -9.67827010e-01\n",
        "   -1.14953332e+00  -1.34157079e+00  -1.49580284e+00  -1.51490461e+00\n",
        "   -1.27681542e+00  -7.32464521e-01   1.56515024e-02   7.59259284e-01\n",
        "    1.29232869e+00   1.51833142e+00   1.49142604e+00   1.33416154e+00\n",
        "    1.14190004e+00   9.61078787e-01   8.06731319e-01   6.79970493e-01]\n",
        " [ -5.15459471e-01  -5.93395597e-01  -6.83482971e-01  -7.83723684e-01\n",
        "   -8.86684813e-01  -9.74684092e-01  -1.01464233e+00  -9.59158320e-01\n",
        "   -7.64497831e-01  -4.24292434e-01   8.97557328e-03   4.40191341e-01\n",
        "    7.75200730e-01   9.63823535e-01   1.01453497e+00   9.71815891e-01\n",
        "    8.82699322e-01   7.79594716e-01   6.79666285e-01   5.90049354e-01]\n",
        " [ -4.51142033e-01  -5.07445140e-01  -5.68072540e-01  -6.29169522e-01\n",
        "   -6.82925806e-01  -7.15833157e-01  -7.08199380e-01  -6.37612548e-01\n",
        "   -4.88451642e-01  -2.64380256e-01   5.54695448e-03   2.74474408e-01\n",
        "    4.95948729e-01   6.41879546e-01   7.09567175e-01   7.15148365e-01\n",
        "    6.81068487e-01   6.26802852e-01   5.65607228e-01   5.05098810e-01]\n",
        " [ -3.91160205e-01  -4.30384962e-01  -4.69403037e-01  -5.04309755e-01\n",
        "   -5.28786575e-01  -5.33759983e-01  -5.08128754e-01  -4.41435344e-01\n",
        "   -3.28560917e-01  -1.74579658e-01   3.64027160e-03   1.81337702e-01\n",
        "    3.33927991e-01   4.44976566e-01   5.09879556e-01   5.34071212e-01\n",
        "    5.28114313e-01   5.03065220e-01   4.67891249e-01   4.28803957e-01]\n",
        " [ -3.37185102e-01  -3.63528189e-01  -3.87357327e-01  -4.05401741e-01\n",
        "   -4.13073987e-01  -4.04625408e-01  -3.73954867e-01  -3.16282014e-01\n",
        "   -2.30432188e-01  -1.20773627e-01   2.50678185e-03   1.25496348e-01\n",
        "    2.34364692e-01   3.19132683e-01   3.75673497e-01   4.05349502e-01\n",
        "    4.13035683e-01   4.04845377e-01   3.86491009e-01   3.62507223e-01]\n",
        " [ -2.89785003e-01  -3.06726299e-01  -3.20201522e-01  -3.27706142e-01\n",
        "   -3.26088179e-01  -3.11814351e-01  -2.81588001e-01  -2.33325507e-01\n",
        "   -1.67270256e-01  -8.67719246e-02   1.79484573e-03   9.01906690e-02\n",
        "    1.70216891e-01   2.35604248e-01   2.83132584e-01   3.12670427e-01\n",
        "    3.26371516e-01   3.27558637e-01   3.19759106e-01   3.06102144e-01]]\n"
       ]
      }
     ],
     "prompt_number": 6
    },
    {
     "cell_type": "markdown",
     "metadata": {},
     "source": [
      "2. Thermistors are electrical devices that measure temperature. They are made out of\n",
      "a material whose resistance changes very predictably with temperature. In the lab we\n",
      "measure the resistance of the thermistor and then compute the temperature from the en-\n",
      "gineering data that the manufacturer sends with the devices. The table below is data for\n",
      "a set of thermistors used in Q-lab.\n",
      "\n",
      "(a) Let's turn this look-up table into a continuous function. Write a reusable function\n",
      "Temp(Resistance) that takes any value of Resistance and returns the interpolated temperature. Be sure to include a docstring in your function."
     ]
    },
    {
     "cell_type": "code",
     "collapsed": false,
     "input": [
      "def Temp(Resistance):\n",
      "    \"\"\"Takes in Resistance parameter, returns Temperature in Celsius.\"\"\"\n",
      "    #T= -16.566783103121*Resistance+60.033540851781\n",
      "    T=[0,0,0,0,0,0,0,0,0,0,3.239e6,3.118e6,3.004e6,2.897e6,2.795e6,2.7e6,2.61e6,2.526e6,2.446e6,2.371e6,2.3e6,2.233e6,2.169e6,2.11e6]\n",
      "    return T[Resistance]"
     ],
     "language": "python",
     "metadata": {},
     "outputs": [],
     "prompt_number": 18
    },
    {
     "cell_type": "markdown",
     "metadata": {},
     "source": [
      "(b) Show that the function returns the values in the table for a few speci\f",
      "\n",
      "c input resistances."
     ]
    },
    {
     "cell_type": "code",
     "collapsed": false,
     "input": [
      "print Temp(3.239)\n",
      "print Temp(1.496)\n",
      "print Temp(2)"
     ],
     "language": "python",
     "metadata": {},
     "outputs": [
      {
       "output_type": "stream",
       "stream": "stdout",
       "text": [
        "6.37373038077\n",
        "35.2496333295\n",
        "26.8999746455\n"
       ]
      }
     ],
     "prompt_number": 19
    },
    {
     "cell_type": "markdown",
     "metadata": {},
     "source": [
      "(c) Plot Temp(Resistance) vs. Resistance for a reasonable range of Resistance with\n",
      "reasonably \f",
      "ne sampling. Include as an annotation the value of the temperature for a\n",
      "resistance of 1.75 M"
     ]
    },
    {
     "cell_type": "code",
     "collapsed": false,
     "input": [
      "Resistance=arange(0,3.5,.01)\n",
      "plot(Resistance,Temp(Resistance),1.75,Temp(1.75),'r.', markersize=10,markeredgewidth=3)\n",
      "xlabel(\"Resistance (M Ohms)\")0\n",
      "ylabel(\"Temperature (C)\")\n",
      "title(\"Resistance vs Temperature\")\n",
      "text(1.75,Temp(1.75),\"Temperature at 1.75M Ohms\",fontsize=15)"
     ],
     "language": "python",
     "metadata": {},
     "outputs": [
      {
       "output_type": "pyout",
       "prompt_number": 20,
       "text": [
        "<matplotlib.text.Text at 0x8277358>"
       ]
      },
      {
       "output_type": "display_data",
       "png": "[encoded data removed]"
      }
     ],
     "prompt_number": 20
    },
    {
     "cell_type": "markdown",
     "metadata": {},
     "source": [
      "$3.$ Let's explore the accuracy of numerical di\u000b",
      "\n",
      "erentiation.\n",
      "\n",
      "\n",
      "\n",
      "(a) Write a function called finiteDifference(x,y) that takes as arguments arrays of\n",
      "\n",
      "values x and y(x) and returns the derivative of y with respect to x. Use the centered \f",
      "\n",
      "nite\n",
      "\n",
      "di\u000b",
      "\n",
      "erence method so that the dydx returned by the function has the same dimensions as\n",
      "\n",
      "the x,y arrays."
     ]
    },
    {
     "cell_type": "code",
     "collapsed": false,
     "input": [
      "def finiteDifference(x,y):\n",
      "    dy=diff(y)#y(n+1)-y(n)\n",
      "    #help(diff)\n",
      "    dx=diff(x)\n",
      "    dydx=dy/dx\n",
      "    return dydx"
     ],
     "language": "python",
     "metadata": {},
     "outputs": [],
     "prompt_number": 21
    },
    {
     "cell_type": "markdown",
     "metadata": {},
     "source": [
      "(b) Use your function to take the derivative of the function y = $x^5$ over the range 0 < x <\n",
      "10, with steps of 0.1. How do you know it works correctly? (Hint: compare to the analytical result)."
     ]
    },
    {
     "cell_type": "code",
     "collapsed": false,
     "input": [
      "x=arange(0,10,.1)\n",
      "dydx=finiteDifference(x,x**5)\n",
      "plot(x,dydx,x,5*x**4)"
     ],
     "language": "python",
     "metadata": {},
     "outputs": [
      {
       "ename": "NameError",
       "evalue": "name 'finiteDifference' is not defined",
       "output_type": "pyerr",
       "traceback": [
        "\u001b[1;31m---------------------------------------------------------------------------\u001b[0m\n\u001b[1;31mNameError\u001b[0m                                 Traceback (most recent call last)",
        "\u001b[1;32m<ipython-input-7-6f39ce6022e6>\u001b[0m in \u001b[0;36m<module>\u001b[1;34m()\u001b[0m\n\u001b[0;32m      1\u001b[0m \u001b[0mx\u001b[0m\u001b[1;33m=\u001b[0m\u001b[0marange\u001b[0m\u001b[1;33m(\u001b[0m\u001b[1;36m0\u001b[0m\u001b[1;33m,\u001b[0m\u001b[1;36m10\u001b[0m\u001b[1;33m,\u001b[0m\u001b[1;36m.1\u001b[0m\u001b[1;33m)\u001b[0m\u001b[1;33m\u001b[0m\u001b[0m\n\u001b[1;32m----> 2\u001b[1;33m \u001b[0mdydx\u001b[0m\u001b[1;33m=\u001b[0m\u001b[0mfiniteDifference\u001b[0m\u001b[1;33m(\u001b[0m\u001b[0mx\u001b[0m\u001b[1;33m,\u001b[0m\u001b[0mx\u001b[0m\u001b[1;33m**\u001b[0m\u001b[1;36m5\u001b[0m\u001b[1;33m)\u001b[0m\u001b[1;33m\u001b[0m\u001b[0m\n\u001b[0m\u001b[0;32m      3\u001b[0m \u001b[0mplot\u001b[0m\u001b[1;33m(\u001b[0m\u001b[0mx\u001b[0m\u001b[1;33m,\u001b[0m\u001b[0mdydx\u001b[0m\u001b[1;33m,\u001b[0m\u001b[0mx\u001b[0m\u001b[1;33m,\u001b[0m\u001b[1;36m5\u001b[0m\u001b[1;33m*\u001b[0m\u001b[0mx\u001b[0m\u001b[1;33m**\u001b[0m\u001b[1;36m4\u001b[0m\u001b[1;33m)\u001b[0m\u001b[1;33m\u001b[0m\u001b[0m\n",
        "\u001b[1;31mNameError\u001b[0m: name 'finiteDifference' is not defined"
       ]
      }
     ],
     "prompt_number": 7
    },
    {
     "cell_type": "markdown",
     "metadata": {},
     "source": [
      "(c) What is the accuracy of the result if you use a spacing of 0.001? (Plot the result)"
     ]
    },
    {
     "cell_type": "code",
     "collapsed": false,
     "input": [
      "x=arange(0,10,.001)\n",
      "dydx=finiteDifference(x,x**5)\n",
      "plot(x,dydx,x,5*x**4)"
     ],
     "language": "python",
     "metadata": {},
     "outputs": [
      {
       "ename": "ValueError",
       "evalue": "x and y must have same first dimension",
       "output_type": "pyerr",
       "traceback": [
        "\u001b[1;31m---------------------------------------------------------------------------\u001b[0m\n\u001b[1;31mValueError\u001b[0m                                Traceback (most recent call last)",
        "\u001b[1;32m<ipython-input-25-df9d703ca5ef>\u001b[0m in \u001b[0;36m<module>\u001b[1;34m()\u001b[0m\n\u001b[0;32m      1\u001b[0m \u001b[0mx\u001b[0m\u001b[1;33m=\u001b[0m\u001b[0marange\u001b[0m\u001b[1;33m(\u001b[0m\u001b[1;36m0\u001b[0m\u001b[1;33m,\u001b[0m\u001b[1;36m10\u001b[0m\u001b[1;33m,\u001b[0m\u001b[1;36m.001\u001b[0m\u001b[1;33m)\u001b[0m\u001b[1;33m\u001b[0m\u001b[0m\n\u001b[0;32m      2\u001b[0m \u001b[0mdydx\u001b[0m\u001b[1;33m=\u001b[0m\u001b[0mfiniteDifference\u001b[0m\u001b[1;33m(\u001b[0m\u001b[0mx\u001b[0m\u001b[1;33m,\u001b[0m\u001b[0mx\u001b[0m\u001b[1;33m**\u001b[0m\u001b[1;36m5\u001b[0m\u001b[1;33m)\u001b[0m\u001b[1;33m\u001b[0m\u001b[0m\n\u001b[1;32m----> 3\u001b[1;33m \u001b[0mplot\u001b[0m\u001b[1;33m(\u001b[0m\u001b[0mx\u001b[0m\u001b[1;33m,\u001b[0m\u001b[0mdydx\u001b[0m\u001b[1;33m,\u001b[0m\u001b[0mx\u001b[0m\u001b[1;33m,\u001b[0m\u001b[1;36m5\u001b[0m\u001b[1;33m*\u001b[0m\u001b[0mx\u001b[0m\u001b[1;33m**\u001b[0m\u001b[1;36m4\u001b[0m\u001b[1;33m)\u001b[0m\u001b[1;33m\u001b[0m\u001b[0m\n\u001b[0m",
        "\u001b[1;32mC:\\Python27\\lib\\site-packages\\matplotlib\\pyplot.pyc\u001b[0m in \u001b[0;36mplot\u001b[1;34m(*args, **kwargs)\u001b[0m\n\u001b[0;32m   2456\u001b[0m         \u001b[0max\u001b[0m\u001b[1;33m.\u001b[0m\u001b[0mhold\u001b[0m\u001b[1;33m(\u001b[0m\u001b[0mhold\u001b[0m\u001b[1;33m)\u001b[0m\u001b[1;33m\u001b[0m\u001b[0m\n\u001b[0;32m   2457\u001b[0m     \u001b[1;32mtry\u001b[0m\u001b[1;33m:\u001b[0m\u001b[1;33m\u001b[0m\u001b[0m\n\u001b[1;32m-> 2458\u001b[1;33m         \u001b[0mret\u001b[0m \u001b[1;33m=\u001b[0m \u001b[0max\u001b[0m\u001b[1;33m.\u001b[0m\u001b[0mplot\u001b[0m\u001b[1;33m(\u001b[0m\u001b[1;33m*\u001b[0m\u001b[0margs\u001b[0m\u001b[1;33m,\u001b[0m \u001b[1;33m**\u001b[0m\u001b[0mkwargs\u001b[0m\u001b[1;33m)\u001b[0m\u001b[1;33m\u001b[0m\u001b[0m\n\u001b[0m\u001b[0;32m   2459\u001b[0m         \u001b[0mdraw_if_interactive\u001b[0m\u001b[1;33m(\u001b[0m\u001b[1;33m)\u001b[0m\u001b[1;33m\u001b[0m\u001b[0m\n\u001b[0;32m   2460\u001b[0m     \u001b[1;32mfinally\u001b[0m\u001b[1;33m:\u001b[0m\u001b[1;33m\u001b[0m\u001b[0m\n",
        "\u001b[1;32mC:\\Python27\\lib\\site-packages\\matplotlib\\axes.pyc\u001b[0m in \u001b[0;36mplot\u001b[1;34m(self, *args, **kwargs)\u001b[0m\n\u001b[0;32m   3846\u001b[0m         \u001b[0mlines\u001b[0m \u001b[1;33m=\u001b[0m \u001b[1;33m[\u001b[0m\u001b[1;33m]\u001b[0m\u001b[1;33m\u001b[0m\u001b[0m\n\u001b[0;32m   3847\u001b[0m \u001b[1;33m\u001b[0m\u001b[0m\n\u001b[1;32m-> 3848\u001b[1;33m         \u001b[1;32mfor\u001b[0m \u001b[0mline\u001b[0m \u001b[1;32min\u001b[0m \u001b[0mself\u001b[0m\u001b[1;33m.\u001b[0m\u001b[0m_get_lines\u001b[0m\u001b[1;33m(\u001b[0m\u001b[1;33m*\u001b[0m\u001b[0margs\u001b[0m\u001b[1;33m,\u001b[0m \u001b[1;33m**\u001b[0m\u001b[0mkwargs\u001b[0m\u001b[1;33m)\u001b[0m\u001b[1;33m:\u001b[0m\u001b[1;33m\u001b[0m\u001b[0m\n\u001b[0m\u001b[0;32m   3849\u001b[0m             \u001b[0mself\u001b[0m\u001b[1;33m.\u001b[0m\u001b[0madd_line\u001b[0m\u001b[1;33m(\u001b[0m\u001b[0mline\u001b[0m\u001b[1;33m)\u001b[0m\u001b[1;33m\u001b[0m\u001b[0m\n\u001b[0;32m   3850\u001b[0m             \u001b[0mlines\u001b[0m\u001b[1;33m.\u001b[0m\u001b[0mappend\u001b[0m\u001b[1;33m(\u001b[0m\u001b[0mline\u001b[0m\u001b[1;33m)\u001b[0m\u001b[1;33m\u001b[0m\u001b[0m\n",
        "\u001b[1;32mC:\\Python27\\lib\\site-packages\\matplotlib\\axes.pyc\u001b[0m in \u001b[0;36m_grab_next_args\u001b[1;34m(self, *args, **kwargs)\u001b[0m\n\u001b[0;32m    330\u001b[0m                 \u001b[0misplit\u001b[0m \u001b[1;33m=\u001b[0m \u001b[1;36m2\u001b[0m\u001b[1;33m\u001b[0m\u001b[0m\n\u001b[0;32m    331\u001b[0m \u001b[1;33m\u001b[0m\u001b[0m\n\u001b[1;32m--> 332\u001b[1;33m             \u001b[1;32mfor\u001b[0m \u001b[0mseg\u001b[0m \u001b[1;32min\u001b[0m \u001b[0mself\u001b[0m\u001b[1;33m.\u001b[0m\u001b[0m_plot_args\u001b[0m\u001b[1;33m(\u001b[0m\u001b[0mremaining\u001b[0m\u001b[1;33m[\u001b[0m\u001b[1;33m:\u001b[0m\u001b[0misplit\u001b[0m\u001b[1;33m]\u001b[0m\u001b[1;33m,\u001b[0m \u001b[0mkwargs\u001b[0m\u001b[1;33m)\u001b[0m\u001b[1;33m:\u001b[0m\u001b[1;33m\u001b[0m\u001b[0m\n\u001b[0m\u001b[0;32m    333\u001b[0m                 \u001b[1;32myield\u001b[0m \u001b[0mseg\u001b[0m\u001b[1;33m\u001b[0m\u001b[0m\n\u001b[0;32m    334\u001b[0m             \u001b[0mremaining\u001b[0m\u001b[1;33m=\u001b[0m\u001b[0mremaining\u001b[0m\u001b[1;33m[\u001b[0m\u001b[0misplit\u001b[0m\u001b[1;33m:\u001b[0m\u001b[1;33m]\u001b[0m\u001b[1;33m\u001b[0m\u001b[0m\n",
        "\u001b[1;32mC:\\Python27\\lib\\site-packages\\matplotlib\\axes.pyc\u001b[0m in \u001b[0;36m_plot_args\u001b[1;34m(self, tup, kwargs)\u001b[0m\n\u001b[0;32m    298\u001b[0m             \u001b[0mx\u001b[0m \u001b[1;33m=\u001b[0m \u001b[0mnp\u001b[0m\u001b[1;33m.\u001b[0m\u001b[0marange\u001b[0m\u001b[1;33m(\u001b[0m\u001b[0my\u001b[0m\u001b[1;33m.\u001b[0m\u001b[0mshape\u001b[0m\u001b[1;33m[\u001b[0m\u001b[1;36m0\u001b[0m\u001b[1;33m]\u001b[0m\u001b[1;33m,\u001b[0m \u001b[0mdtype\u001b[0m\u001b[1;33m=\u001b[0m\u001b[0mfloat\u001b[0m\u001b[1;33m)\u001b[0m\u001b[1;33m\u001b[0m\u001b[0m\n\u001b[0;32m    299\u001b[0m \u001b[1;33m\u001b[0m\u001b[0m\n\u001b[1;32m--> 300\u001b[1;33m         \u001b[0mx\u001b[0m\u001b[1;33m,\u001b[0m \u001b[0my\u001b[0m \u001b[1;33m=\u001b[0m \u001b[0mself\u001b[0m\u001b[1;33m.\u001b[0m\u001b[0m_xy_from_xy\u001b[0m\u001b[1;33m(\u001b[0m\u001b[0mx\u001b[0m\u001b[1;33m,\u001b[0m \u001b[0my\u001b[0m\u001b[1;33m)\u001b[0m\u001b[1;33m\u001b[0m\u001b[0m\n\u001b[0m\u001b[0;32m    301\u001b[0m \u001b[1;33m\u001b[0m\u001b[0m\n\u001b[0;32m    302\u001b[0m         \u001b[1;32mif\u001b[0m \u001b[0mself\u001b[0m\u001b[1;33m.\u001b[0m\u001b[0mcommand\u001b[0m \u001b[1;33m==\u001b[0m \u001b[1;34m'plot'\u001b[0m\u001b[1;33m:\u001b[0m\u001b[1;33m\u001b[0m\u001b[0m\n",
        "\u001b[1;32mC:\\Python27\\lib\\site-packages\\matplotlib\\axes.pyc\u001b[0m in \u001b[0;36m_xy_from_xy\u001b[1;34m(self, x, y)\u001b[0m\n\u001b[0;32m    238\u001b[0m         \u001b[0my\u001b[0m \u001b[1;33m=\u001b[0m \u001b[0mnp\u001b[0m\u001b[1;33m.\u001b[0m\u001b[0matleast_1d\u001b[0m\u001b[1;33m(\u001b[0m\u001b[0my\u001b[0m\u001b[1;33m)\u001b[0m\u001b[1;33m\u001b[0m\u001b[0m\n\u001b[0;32m    239\u001b[0m         \u001b[1;32mif\u001b[0m \u001b[0mx\u001b[0m\u001b[1;33m.\u001b[0m\u001b[0mshape\u001b[0m\u001b[1;33m[\u001b[0m\u001b[1;36m0\u001b[0m\u001b[1;33m]\u001b[0m \u001b[1;33m!=\u001b[0m \u001b[0my\u001b[0m\u001b[1;33m.\u001b[0m\u001b[0mshape\u001b[0m\u001b[1;33m[\u001b[0m\u001b[1;36m0\u001b[0m\u001b[1;33m]\u001b[0m\u001b[1;33m:\u001b[0m\u001b[1;33m\u001b[0m\u001b[0m\n\u001b[1;32m--> 240\u001b[1;33m             \u001b[1;32mraise\u001b[0m \u001b[0mValueError\u001b[0m\u001b[1;33m(\u001b[0m\u001b[1;34m\"x and y must have same first dimension\"\u001b[0m\u001b[1;33m)\u001b[0m\u001b[1;33m\u001b[0m\u001b[0m\n\u001b[0m\u001b[0;32m    241\u001b[0m         \u001b[1;32mif\u001b[0m \u001b[0mx\u001b[0m\u001b[1;33m.\u001b[0m\u001b[0mndim\u001b[0m \u001b[1;33m>\u001b[0m \u001b[1;36m2\u001b[0m \u001b[1;32mor\u001b[0m \u001b[0my\u001b[0m\u001b[1;33m.\u001b[0m\u001b[0mndim\u001b[0m \u001b[1;33m>\u001b[0m \u001b[1;36m2\u001b[0m\u001b[1;33m:\u001b[0m\u001b[1;33m\u001b[0m\u001b[0m\n\u001b[0;32m    242\u001b[0m             \u001b[1;32mraise\u001b[0m \u001b[0mValueError\u001b[0m\u001b[1;33m(\u001b[0m\u001b[1;34m\"x and y can be no greater than 2-D\"\u001b[0m\u001b[1;33m)\u001b[0m\u001b[1;33m\u001b[0m\u001b[0m\n",
        "\u001b[1;31mValueError\u001b[0m: x and y must have same first dimension"
       ]
      },
      {
       "output_type": "display_data",
       "png": "[encoded data removed]"
      }
     ],
     "prompt_number": 25
    },
    {
     "cell_type": "markdown",
     "metadata": {},
     "source": [
      "(d) For what spacing is the derivative accurate to 4 signifi\f",
      "cant fi\f",
      "gures?"
     ]
    },
    {
     "cell_type": "code",
     "collapsed": false,
     "input": [
      "#5((x+h)**4-x**4)/h["
     ],
     "language": "python",
     "metadata": {},
     "outputs": [],
     "prompt_number": 26
    },
    {
     "cell_type": "markdown",
     "metadata": {},
     "source": [
      "$4.$ Numerical diff\u000b",
      "erentiation plays an important role in fast electronic signal processing in\n",
      "many experimental contexts, such as the data acquisition systems of high energy particle\n",
      "and nuclear physics. The data collected is often a series of fast time samples of energy\n",
      "deposited in a detector by a fast-moving charged particle. The sheer volume of data can be\n",
      "enormous, so some signal processing within the electronics chain is necessary to reduce the\n",
      "size of the collected dataset. Due to the stochastic nature of the particle interactions and\n",
      "the inherent noise in the readout electronics, these signals can be very noisy. Unfortunately,\n",
      "numerical di\u000b",
      "fferentiation can amplify these \n",
      "uctuations. By choosing your di\u000b",
      "erentiation\n",
      "algorithm carefully, you can minimize the impact of these \n",
      "uctuations on the collected\n",
      "signals.\n",
      "\n",
      "(a) Generate and plot an example of a noisy sinusoidally varying dataset with the following:\n",
      "x = linspace(0,2*pi,100)\n",
      "y = sin(x) + 0.1*random.random(size=x.shape)"
     ]
    },
    {
     "cell_type": "code",
     "collapsed": false,
     "input": [
      "x = linspace(0,2*pi,100)\n",
      "y = sin(x) + 0.1*random.random(size=x.shape)\n",
      "plot(x,y)"
     ],
     "language": "python",
     "metadata": {},
     "outputs": [
      {
       "ename": "TypeError",
       "evalue": "only length-1 arrays can be converted to Python scalars",
       "output_type": "pyerr",
       "traceback": [
        "\u001b[1;31m---------------------------------------------------------------------------\u001b[0m\n\u001b[1;31mTypeError\u001b[0m                                 Traceback (most recent call last)",
        "\u001b[1;32m<ipython-input-27-989cddc42c29>\u001b[0m in \u001b[0;36m<module>\u001b[1;34m()\u001b[0m\n\u001b[0;32m      1\u001b[0m \u001b[0mx\u001b[0m \u001b[1;33m=\u001b[0m \u001b[0mlinspace\u001b[0m\u001b[1;33m(\u001b[0m\u001b[1;36m0\u001b[0m\u001b[1;33m,\u001b[0m\u001b[1;36m2\u001b[0m\u001b[1;33m*\u001b[0m\u001b[0mpi\u001b[0m\u001b[1;33m,\u001b[0m\u001b[1;36m100\u001b[0m\u001b[1;33m)\u001b[0m\u001b[1;33m\u001b[0m\u001b[0m\n\u001b[1;32m----> 2\u001b[1;33m \u001b[0my\u001b[0m \u001b[1;33m=\u001b[0m \u001b[0msin\u001b[0m\u001b[1;33m(\u001b[0m\u001b[0mx\u001b[0m\u001b[1;33m)\u001b[0m \u001b[1;33m+\u001b[0m \u001b[1;36m0.1\u001b[0m\u001b[1;33m*\u001b[0m\u001b[0mrandom\u001b[0m\u001b[1;33m.\u001b[0m\u001b[0mrandom\u001b[0m\u001b[1;33m(\u001b[0m\u001b[0msize\u001b[0m\u001b[1;33m=\u001b[0m\u001b[0mx\u001b[0m\u001b[1;33m.\u001b[0m\u001b[0mshape\u001b[0m\u001b[1;33m)\u001b[0m\u001b[1;33m\u001b[0m\u001b[0m\n\u001b[0m\u001b[0;32m      3\u001b[0m \u001b[0mplot\u001b[0m\u001b[1;33m(\u001b[0m\u001b[0mx\u001b[0m\u001b[1;33m,\u001b[0m\u001b[0my\u001b[0m\u001b[1;33m)\u001b[0m\u001b[1;33m\u001b[0m\u001b[0m\n",
        "\u001b[1;31mTypeError\u001b[0m: only length-1 arrays can be converted to Python scalars"
       ]
      }
     ],
     "prompt_number": 27
    },
    {
     "cell_type": "markdown",
     "metadata": {},
     "source": [
      "(b) Now that we do not control the spacing of the data points, we have to use higher order\n",
      "diff\u000b",
      "erencing methods to reach a smoother and more accurate derivative. The four-point\n",
      "center di\u000b",
      "erencing method is defi\f",
      "ned by\n",
      "\n",
      "$\\dfrac{dy}{dx}[i] = \\dfrac{y(i-2)-8y(i-1)+8y(i+1)-y(i+2)}{12h}$\n",
      "\n",
      "where h is the spacing between points on the x axis (assumed to be equal). This comes from\n",
      "keeping higher order terms from the Taylor expansion used to de\f",
      "fine the derivative. This\n",
      "method can be used to obtain y[2:-2]. In order to calculate values for y[0], y[1], y[-1]\n",
      "and y[-2] you must use the lowest order \f",
      "finite diff\u000b",
      "erence method (like the one you de\f",
      "ned in\n",
      "your finiteDifference() function). Create another function, fourPtFiniteDiff(x,y),\n",
      "that computes the derivative using the higher order method above. Test that it works for\n",
      "y = $x^5$ and plot the percent error from the analytical result."
     ]
    },
    {
     "cell_type": "code",
     "collapsed": false,
     "input": [
      "def fourPtFiniteDiff(i,y):\n",
      "    if x.shape != y.shape:\n",
      "        print \"error: array mismatch\"\n",
      "        return NaN\n",
      "    dydx=(y*(i-2)-8*y*(i-1)+8*y*(i+1)-y*(i+2))/(12*h)"
     ],
     "language": "python",
     "metadata": {},
     "outputs": []
    },
    {
     "cell_type": "markdown",
     "metadata": {},
     "source": [
      "(c) Now plot the noisy sine function along with the derivatives computed analytically, using\n",
      "the lowest order \f",
      "finite diff\u000b",
      "erence method and the four-point fi\f",
      "nite di\u000b",
      "erence. Your result\n",
      "should look something like the plot shown in the fi\f",
      "gure on the next page."
     ]
    },
    {
     "cell_type": "markdown",
     "metadata": {},
     "source": [
      "(c) Now plot the noisy sine function along with the derivatives computed analytically, using\n",
      "the lowest order \f",
      "finite diff\u000b",
      "erence method and the four-point \f",
      "finite di\u000b",
      "erence. Your result\n",
      "should look something like the plot shown in the fi\f",
      "gure on the next page."
     ]
    },
    {
     "cell_type": "code",
     "collapsed": false,
     "input": [],
     "language": "python",
     "metadata": {},
     "outputs": []
    }
   ],
   "metadata": {}
  }
 ]
}