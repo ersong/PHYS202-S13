{
 "metadata": {
  "name": ""
 }, 
 "nbformat": 2, 
 "worksheets": [
  {
   "cells": []
  }
 ]
}