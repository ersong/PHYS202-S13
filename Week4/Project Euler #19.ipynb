{
 "metadata": {
  "name": "Project Euler #19"
 },
 "nbformat": 3,
 "nbformat_minor": 0,
 "worksheets": [
  {
   "cells": [
    {
     "cell_type": "markdown",
     "metadata": {},
     "source": [
      "Counting Sundays\n",
      "Problem 19\n",
      "\n",
      "You are given the following information, but you may prefer to do some research for yourself.\n",
      "1 Jan 1900 was a Monday.\n",
      "Thirty days has September,\n",
      " April, June and November.\n",
      " All the rest have thirty-one,\n",
      " Saving February alone,\n",
      " Which has twenty-eight, rain or shine.\n",
      " And on leap years, twenty-nine.\n",
      "A leap year occurs on any year evenly divisible by 4, but not on a century unless it is divisible by 400.\n",
      "\n",
      "How many Sundays fell on the first of the month during the twentieth century (1 Jan 1901 to 31 Dec 2000)?"
     ]
    },
    {
     "cell_type": "code",
     "collapsed": false,
     "input": [
      "Sundays=0\n",
      "years=0\n",
      "numdays=0\n",
      "calendar=[0,0]\n",
      "day=0\n",
      "#1 Jan 1901 = Tuesday\n",
      "for year in range(1901,2001):\n",
      "    for month in range(1,13):\n",
      "        if month==9 or month==4 or month==6 or month==11:\n",
      "            if day<=30:\n",
      "                day+=1\n",
      "                calendar.append(day)\n",
      "            else:\n",
      "                month+=1\n",
      "                day=0\n",
      "        elif month==2:\n",
      "            if year%4==0:\n",
      "                if day<=29:\n",
      "                    day+=1\n",
      "                    calendar.append(day)\n",
      "                else:\n",
      "                    month+=1\n",
      "                    day=0\n",
      "            else:\n",
      "                if day<=28:\n",
      "                    day+=1\n",
      "                    calendar.append(day)\n",
      "                else:\n",
      "                    month+=1\n",
      "                    day=0\n",
      "        else:\n",
      "            if day<=31:\n",
      "                day+=1\n",
      "                calendar.append(day)\n",
      "            else:\n",
      "                month+=1\n",
      "                day=0\n",
      "                \n",
      "for d in range(len(calendar)):\n",
      "    if d%7==0 and calendar[d]==1:\n",
      "        Sundays+=1\n",
      "       \n",
      "print Sundays"
     ],
     "language": "python",
     "metadata": {},
     "outputs": [
      {
       "output_type": "stream",
       "stream": "stdout",
       "text": [
        "6\n"
       ]
      }
     ],
     "prompt_number": 7
    },
    {
     "cell_type": "code",
     "collapsed": false,
     "input": [],
     "language": "python",
     "metadata": {},
     "outputs": []
    }
   ],
   "metadata": {}
  }
 ]
}