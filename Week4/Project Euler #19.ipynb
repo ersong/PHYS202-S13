{
 "metadata": {
  "name": "Project Euler #19"
 },
 "nbformat": 3,
 "nbformat_minor": 0,
 "worksheets": [
  {
   "cells": [
    {
     "cell_type": "markdown",
     "metadata": {},
     "source": [
      "Counting Sundays\n",
      "Problem 19\n",
      "\n",
      "You are given the following information, but you may prefer to do some research for yourself.\n",
      "1 Jan 1900 was a Monday.\n",
      "Thirty days has September,\n",
      " April, June and November.\n",
      " All the rest have thirty-one,\n",
      " Saving February alone,\n",
      " Which has twenty-eight, rain or shine.\n",
      " And on leap years, twenty-nine.\n",
      "A leap year occurs on any year evenly divisible by 4, but not on a century unless it is divisible by 400.\n",
      "\n",
      "How many Sundays fell on the first of the month during the twentieth century (1 Jan 1901 to 31 Dec 2000)?"
     ]
    },
    {
     "cell_type": "code",
     "collapsed": false,
     "input": [
      "Sundays=0\n",
      "years=0\n",
      "numdays=0\n",
      "calendar=[0,0]\n",
      "day=0\n",
      "#1 Jan 1901 = Tuesday\n",
      "for year in range(1901,2001):\n",
      "    for month in range(1,13):\n",
      "        if month==9 or month==4 or month==6 or month==11:\n",
      "            if day<=30:\n",
      "                day+=1\n",
      "                calendar.append(day)\n",
      "            else:\n",
      "                month+=1\n",
      "                day=0\n",
      "        elif month==2:\n",
      "            if year%4==0 and (year%100!=0 or year%400==0):\n",
      "                if day<=29:\n",
      "                    day+=1\n",
      "                    calendar.append(day)\n",
      "                    print year\n",
      "                else:\n",
      "                    month+=1\n",
      "                    day=0\n",
      "            else:\n",
      "                if day<=28:\n",
      "                    day+=1\n",
      "                    calendar.append(day)\n",
      "                else:\n",
      "                    month+=1\n",
      "                    day=0\n",
      "        else:\n",
      "            if day<=31:\n",
      "                day+=1\n",
      "                calendar.append(day)\n",
      "            else:\n",
      "                month+=1\n",
      "                day=0\n",
      "                \n",
      "for d in range(len(calendar)):\n",
      "    if d%7==0 and calendar[d]==1:\n",
      "        Sundays+=1\n",
      "       \n",
      "print Sundays"
     ],
     "language": "python",
     "metadata": {},
     "outputs": [
      {
       "output_type": "stream",
       "stream": "stdout",
       "text": [
        "1904\n",
        "1908\n",
        "1912\n",
        "1916\n",
        "1920\n",
        "1924\n",
        "1928\n",
        "1932\n",
        "1936\n",
        "1940\n",
        "1944\n",
        "1948\n",
        "1952\n",
        "1956\n",
        "1960\n",
        "1964\n",
        "1968\n",
        "1972\n",
        "1976\n",
        "1980\n",
        "1984\n",
        "1988\n",
        "1992\n",
        "1996\n",
        "2000\n",
        "6\n"
       ]
      }
     ],
     "prompt_number": 1
    },
    {
     "cell_type": "code",
     "collapsed": false,
     "input": [],
     "language": "python",
     "metadata": {},
     "outputs": []
    }
   ],
   "metadata": {}
  }
 ]
}