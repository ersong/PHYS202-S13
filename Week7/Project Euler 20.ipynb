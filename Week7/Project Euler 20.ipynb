{
 "metadata": {
  "name": "Project Euler 20"
 },
 "nbformat": 3,
 "nbformat_minor": 0,
 "worksheets": [
  {
   "cells": [
    {
     "cell_type": "markdown",
     "metadata": {},
     "source": [
      "Factorial digit sum\n",
      "===================\n",
      "Problem 20\n",
      "-------------\n",
      "n! means n  (n - 1)  ...  3  2  1\n",
      "\n",
      "For example, 10! = 10  9  ...  3  2  1 = 3628800,\n",
      "and the sum of the digits in the number 10! is 3 + 6 + 2 + 8 + 8 + 0 + 0 = 27.\n",
      "\n",
      "Find the sum of the digits in the number 100!"
     ]
    },
    {
     "cell_type": "code",
     "collapsed": false,
     "input": [
      "print \"test case\"\n",
      "m=1\n",
      "for i in range(1,10):\n",
      "    m*=i\n",
      "print \"10! = \",m\n",
      "ms=str(m)\n",
      "s=0\n",
      "for i in ms:\n",
      "    s+=int(i)\n",
      "print \"sum(10!) = \",s"
     ],
     "language": "python",
     "metadata": {},
     "outputs": [
      {
       "output_type": "stream",
       "stream": "stdout",
       "text": [
        "test case\n",
        "10! =  362880\n",
        "sum(10!) =  27\n"
       ]
      }
     ],
     "prompt_number": 2
    },
    {
     "cell_type": "code",
     "collapsed": false,
     "input": [
      "n=1\n",
      "for i in range(1,100):\n",
      "    n*=i\n",
      "ns=str(n)\n",
      "s=0\n",
      "for i in ns:\n",
      "    s+=int(i)\n",
      "print \"sum(100! = \", s"
     ],
     "language": "python",
     "metadata": {},
     "outputs": [
      {
       "output_type": "stream",
       "stream": "stdout",
       "text": [
        "sum(100! =  648\n"
       ]
      }
     ],
     "prompt_number": 5
    },
    {
     "cell_type": "code",
     "collapsed": false,
     "input": [],
     "language": "python",
     "metadata": {},
     "outputs": []
    }
   ],
   "metadata": {}
  }
 ]
}