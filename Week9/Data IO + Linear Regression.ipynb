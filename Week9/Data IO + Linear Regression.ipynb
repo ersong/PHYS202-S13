{
 "metadata": {
  "name": "Data IO + Linear Regression"
 },
 "nbformat": 3,
 "nbformat_minor": 0,
 "worksheets": [
  {
   "cells": [
    {
     "cell_type": "markdown",
     "metadata": {},
     "source": [
      "Data I/O\n",
      "========"
     ]
    },
    {
     "cell_type": "code",
     "collapsed": false,
     "input": [
      "DataIn=loadtxt('input.dat')\n",
      "print DataIn.shape\n",
      "print DataIn"
     ],
     "language": "python",
     "metadata": {},
     "outputs": [
      {
       "output_type": "stream",
       "stream": "stdout",
       "text": [
        "(5L, 3L)\n",
        "[[ 0.   1.1  0.1]\n",
        " [ 2.   1.9  0.2]\n",
        " [ 4.   3.2  0.1]\n",
        " [ 6.   4.   0.3]\n",
        " [ 8.   5.9  0.3]]\n"
       ]
      }
     ],
     "prompt_number": 11
    },
    {
     "cell_type": "code",
     "collapsed": false,
     "input": [
      "print DataIn[:,2]"
     ],
     "language": "python",
     "metadata": {},
     "outputs": [
      {
       "output_type": "stream",
       "stream": "stdout",
       "text": [
        "[ 0.1  0.2  0.1  0.3  0.3]\n"
       ]
      }
     ],
     "prompt_number": 12
    },
    {
     "cell_type": "code",
     "collapsed": false,
     "input": [
      "x,y,yerr = loadtxt('input.dat', unpack=True)\n",
      "print x\n",
      "print y\n",
      "print yerr"
     ],
     "language": "python",
     "metadata": {},
     "outputs": [
      {
       "output_type": "stream",
       "stream": "stdout",
       "text": [
        "[ 0.  2.  4.  6.  8.]\n",
        "[ 1.1  1.9  3.2  4.   5.9]\n",
        "[ 0.1  0.2  0.1  0.3  0.3]\n"
       ]
      }
     ],
     "prompt_number": 13
    },
    {
     "cell_type": "code",
     "collapsed": false,
     "input": [
      "x,y = loadtxt('input.dat', unpack=True, usecols=[0,1])\n",
      "print x\n",
      "print y"
     ],
     "language": "python",
     "metadata": {},
     "outputs": [
      {
       "output_type": "stream",
       "stream": "stdout",
       "text": [
        "[ 0.  2.  4.  6.  8.]\n",
        "[ 1.1  1.9  3.2  4.   5.9]\n"
       ]
      }
     ],
     "prompt_number": 14
    },
    {
     "cell_type": "code",
     "collapsed": false,
     "input": [
      "x,y = loadtxt('input.csv', unpack=True, delimiter=',', usecols=[0,1])\n",
      "print x,y"
     ],
     "language": "python",
     "metadata": {},
     "outputs": [
      {
       "output_type": "stream",
       "stream": "stdout",
       "text": [
        "[ 0.  2.  4.  6.  8.] [ 1.1  1.9  3.2  4.   5.9]\n"
       ]
      }
     ],
     "prompt_number": 15
    },
    {
     "cell_type": "code",
     "collapsed": false,
     "input": [
      "x,y = loadtxt('input.csv', unpack=True, usecols=[0,1])\n",
      "print x,y"
     ],
     "language": "python",
     "metadata": {},
     "outputs": [
      {
       "ename": "ValueError",
       "evalue": "invalid literal for float(): 0.0,",
       "output_type": "pyerr",
       "traceback": [
        "\u001b[1;31m---------------------------------------------------------------------------\u001b[0m\n\u001b[1;31mValueError\u001b[0m                                Traceback (most recent call last)",
        "\u001b[1;32m<ipython-input-16-e06efed1b88c>\u001b[0m in \u001b[0;36m<module>\u001b[1;34m()\u001b[0m\n\u001b[1;32m----> 1\u001b[1;33m \u001b[0mx\u001b[0m\u001b[1;33m,\u001b[0m\u001b[0my\u001b[0m \u001b[1;33m=\u001b[0m \u001b[0mloadtxt\u001b[0m\u001b[1;33m(\u001b[0m\u001b[1;34m'input.csv'\u001b[0m\u001b[1;33m,\u001b[0m \u001b[0munpack\u001b[0m\u001b[1;33m=\u001b[0m\u001b[0mTrue\u001b[0m\u001b[1;33m,\u001b[0m \u001b[0musecols\u001b[0m\u001b[1;33m=\u001b[0m\u001b[1;33m[\u001b[0m\u001b[1;36m0\u001b[0m\u001b[1;33m,\u001b[0m\u001b[1;36m1\u001b[0m\u001b[1;33m]\u001b[0m\u001b[1;33m)\u001b[0m\u001b[1;33m\u001b[0m\u001b[0m\n\u001b[0m\u001b[0;32m      2\u001b[0m \u001b[1;32mprint\u001b[0m \u001b[0mx\u001b[0m\u001b[1;33m,\u001b[0m\u001b[0my\u001b[0m\u001b[1;33m\u001b[0m\u001b[0m\n",
        "\u001b[1;32mC:\\Python27\\lib\\site-packages\\numpy\\lib\\npyio.pyc\u001b[0m in \u001b[0;36mloadtxt\u001b[1;34m(fname, dtype, comments, delimiter, converters, skiprows, usecols, unpack, ndmin)\u001b[0m\n\u001b[0;32m    794\u001b[0m                 \u001b[0mvals\u001b[0m \u001b[1;33m=\u001b[0m \u001b[1;33m[\u001b[0m\u001b[0mvals\u001b[0m\u001b[1;33m[\u001b[0m\u001b[0mi\u001b[0m\u001b[1;33m]\u001b[0m \u001b[1;32mfor\u001b[0m \u001b[0mi\u001b[0m \u001b[1;32min\u001b[0m \u001b[0musecols\u001b[0m\u001b[1;33m]\u001b[0m\u001b[1;33m\u001b[0m\u001b[0m\n\u001b[0;32m    795\u001b[0m             \u001b[1;31m# Convert each value according to its column and store\u001b[0m\u001b[1;33m\u001b[0m\u001b[1;33m\u001b[0m\u001b[0m\n\u001b[1;32m--> 796\u001b[1;33m             \u001b[0mitems\u001b[0m \u001b[1;33m=\u001b[0m \u001b[1;33m[\u001b[0m\u001b[0mconv\u001b[0m\u001b[1;33m(\u001b[0m\u001b[0mval\u001b[0m\u001b[1;33m)\u001b[0m \u001b[1;32mfor\u001b[0m \u001b[1;33m(\u001b[0m\u001b[0mconv\u001b[0m\u001b[1;33m,\u001b[0m \u001b[0mval\u001b[0m\u001b[1;33m)\u001b[0m \u001b[1;32min\u001b[0m \u001b[0mzip\u001b[0m\u001b[1;33m(\u001b[0m\u001b[0mconverters\u001b[0m\u001b[1;33m,\u001b[0m \u001b[0mvals\u001b[0m\u001b[1;33m)\u001b[0m\u001b[1;33m]\u001b[0m\u001b[1;33m\u001b[0m\u001b[0m\n\u001b[0m\u001b[0;32m    797\u001b[0m             \u001b[1;31m# Then pack it according to the dtype's nesting\u001b[0m\u001b[1;33m\u001b[0m\u001b[1;33m\u001b[0m\u001b[0m\n\u001b[0;32m    798\u001b[0m             \u001b[0mitems\u001b[0m \u001b[1;33m=\u001b[0m \u001b[0mpack_items\u001b[0m\u001b[1;33m(\u001b[0m\u001b[0mitems\u001b[0m\u001b[1;33m,\u001b[0m \u001b[0mpacking\u001b[0m\u001b[1;33m)\u001b[0m\u001b[1;33m\u001b[0m\u001b[0m\n",
        "\u001b[1;31mValueError\u001b[0m: invalid literal for float(): 0.0,"
       ]
      }
     ],
     "prompt_number": 16
    },
    {
     "cell_type": "code",
     "collapsed": false,
     "input": [
      "t=array([0,1,2,3,4,5,6,7,8,9])\n",
      "v=array([.137,.456,.591,.713,.859,.926,1.139,1.327,1.512,1.875])\n",
      "p=.15+v/10."
     ],
     "language": "python",
     "metadata": {},
     "outputs": [],
     "prompt_number": 17
    },
    {
     "cell_type": "code",
     "collapsed": false,
     "input": [
      "savetxt('output.dat',(t,p))"
     ],
     "language": "python",
     "metadata": {},
     "outputs": [],
     "prompt_number": 18
    },
    {
     "cell_type": "code",
     "collapsed": false,
     "input": [
      "DataOut=column_stack((t,p))\n",
      "savetxt('output.dat',DataOut)"
     ],
     "language": "python",
     "metadata": {},
     "outputs": [],
     "prompt_number": 19
    },
    {
     "cell_type": "code",
     "collapsed": false,
     "input": [
      "f=open(\"output.dat\",\"w\")\n",
      "f.write(\"#My comment line for this file, followed by a blank line, then the data \\n\\n\")\n",
      "savetxt(f, DataOut, fmt=('%3i','%4.3f'))\n",
      "f.close()"
     ],
     "language": "python",
     "metadata": {},
     "outputs": [],
     "prompt_number": 20
    },
    {
     "cell_type": "markdown",
     "metadata": {},
     "source": [
      "Exercise 1.\n",
      "-----------"
     ]
    },
    {
     "cell_type": "code",
     "collapsed": false,
     "input": [
      "Time=array([1,2,3,4,5,6,7,8,9,10])\n",
      "Position=array([7.75,7.33,6.89,6.45,5.96,5.55,5.10,4.49,3.93,3.58])\n",
      "Unc=array([.02,.03,.03,.04,.05,.06,.08,.11,.14,.17])"
     ],
     "language": "python",
     "metadata": {},
     "outputs": [],
     "prompt_number": 21
    },
    {
     "cell_type": "code",
     "collapsed": false,
     "input": [
      "f=open(\"linearData.dat\",\"w\")\n",
      "f.write(\"#Estimated Positions at Time intervals of one second. \\n\\n\")\n",
      "DataOut=column_stack((Time,Position,Unc))\n",
      "savetxt(f,DataOut)\n",
      "f.close()"
     ],
     "language": "python",
     "metadata": {},
     "outputs": [],
     "prompt_number": 22
    },
    {
     "cell_type": "code",
     "collapsed": false,
     "input": [
      "g=open(\"linearData.csv\",\"w\")\n",
      "g.write(\"#Estimated Positions at Time intervals of one second. \\n\\n\")\n",
      "savetxt(g,(Time,Position,Unc))\n",
      "g.close()"
     ],
     "language": "python",
     "metadata": {},
     "outputs": [],
     "prompt_number": 23
    },
    {
     "cell_type": "markdown",
     "metadata": {},
     "source": [
      "Linear Regression\n",
      "=================\n",
      "a)"
     ]
    },
    {
     "cell_type": "code",
     "collapsed": false,
     "input": [
      "def LinearLeastSquaresFit(x,y):\n",
      "    \"\"\"Take in arrays representing (x,y) values for a set of linearly varying data and perform a linear least squares regression. Return the resulting slope and intercept parameters of the best fit line with their uncertainties.\"\"\"\n",
      "    if len(x)!=len(y):\n",
      "        return \"array sizes incompatible\"\n",
      "    n=len(x)\n",
      "    xp=0#<x>\n",
      "    for i in range(0,n):\n",
      "        xp+=x[i]\n",
      "    xp=float(xp/n)\n",
      "    yp=0#<y>\n",
      "    for i in range(0,n):\n",
      "        yp+=y[i]\n",
      "    yp=float(yp/n)\n",
      "    xp2=0#<x^2>\n",
      "    for i in range(0,n):\n",
      "        xp2+=(x[i])**2\n",
      "    xp2=float(xp2/n)\n",
      "    xy=0#<xy>\n",
      "    for i in range(0,n):\n",
      "        xy+=x[i]*y[i]\n",
      "    xy=float(xy/n)\n",
      "    slope=(xy-xp*yp)/(xp2-xp**2.)\n",
      "    intercept=(xp2*yp-xp*xy)/(xp2-xp**2.)\n",
      "    delta=zeros(shape(x))\n",
      "    for i in range(0,n):\n",
      "        delta[i]=y[i]-(slope*x[i]+intercept)\n",
      "    #print delta\n",
      "    delta2=0\n",
      "    for i in range(0,n):\n",
      "        #print delta2\n",
      "        delta2+=delta[i]**2\n",
      "    delta2=float(delta2/n)\n",
      "    slerr =float((1/(n-2))*(delta2/(xp2-xp**2.)))**.5\n",
      "    interr =float((1/(n-2))*(delta2*xp2/(xp2-xp**2.)))**.5\n",
      "    return slope,intercept,slerr,interr"
     ],
     "language": "python",
     "metadata": {},
     "outputs": [],
     "prompt_number": 24
    },
    {
     "cell_type": "markdown",
     "metadata": {},
     "source": [
      "b)"
     ]
    },
    {
     "cell_type": "code",
     "collapsed": false,
     "input": [
      "x,y = loadtxt('LinearData.dat', unpack=True, usecols=[0,1])\n",
      "print x\n",
      "print y\n",
      "print LinearLeastSquaresFit(x,y)\n",
      "#m = -0.4510 +/- 0.0066 and b = 8.2201 +/- 0.0214"
     ],
     "language": "python",
     "metadata": {},
     "outputs": [
      {
       "output_type": "stream",
       "stream": "stdout",
       "text": [
        "[  1.   2.   3.   4.   5.   6.   7.   8.   9.  10.]\n",
        "[ 7.75  7.33  6.89  6.45  5.96  5.55  5.1   4.49  3.93  3.58]\n",
        "(-0.47145454545454524, 8.296000000000001, 0.0, 0.0)\n"
       ]
      }
     ],
     "prompt_number": 25
    },
    {
     "cell_type": "code",
     "collapsed": false,
     "input": [
      "def WeightedLinearLeastSquaresFit(x,y):\n",
      "    \"\"\"Take in arrays representing (x,y) values for a set of linearly varying data and perform a weighted linear least squares regression. Return the resulting slope and intercept parameters of the best fit line with their uncertainties.\"\"\"\n",
      "    if len(x)!=len(y):\n",
      "        return \"array sizes incompatible\"\n",
      "    n=len(x)\n",
      "    xp=0#<x>\n",
      "    for i in range(0,n):\n",
      "        xp+=x[i]\n",
      "    xp=float(xp/n)\n",
      "    yp=0#<y>\n",
      "    for i in range(0,n):\n",
      "        yp+=y[i]\n",
      "    yp=float(yp/n)\n",
      "    xp2=0#<x^2>\n",
      "    for i in range(0,n):\n",
      "        xp2+=(x[i])**2\n",
      "    xp2=float(xp2/n)\n",
      "    xy=0#<xy>\n",
      "    for i in range(0,n):\n",
      "        xy+=x[i]*y[i]\n",
      "    xy=float(xy/n)\n",
      "    slope=(xy-xp*yp)/(xp2-xp**2.)\n",
      "    intercept=(xp2*yp-xp*xy)/(xp2-xp**2.)\n",
      "    delta=zeros(shape(x))\n",
      "    for i in range(0,n):\n",
      "        delta[i]=y[i]-(slope*x[i]+intercept)\n",
      "    print \"delta\",delta\n",
      "    unc_y=zeros(shape(x))\n",
      "    for i in range(0,n):\n",
      "        unc_y[i]=float((1/(n-2))*delta[i])**5.\n",
      "    print \"unc y\",unc_y\n",
      "    w=zeros(shape(x))\n",
      "    for i in range(0,n):\n",
      "        w[i]=float(1/unc_y[i])\n",
      "    print \"w\",w\n",
      "    a=0\n",
      "    for i in range(0,n):\n",
      "        a+=w[i]\n",
      "    b=0\n",
      "    for i in range(0,n):\n",
      "        b+=w[i]*x[i]*y[i]\n",
      "    c=0\n",
      "    for i in range(0,n):\n",
      "        c+=w[i]*x[i]\n",
      "    d=0\n",
      "    for i in range(0,n):\n",
      "        d+=w[i]*y[i]\n",
      "    e=0\n",
      "    for i in range(0,n):\n",
      "        e+=w[i]*y[i]*y[i]\n",
      "    f=0\n",
      "    for i in range(0,n):\n",
      "        f+=w[i]*x[i]*x[i]\n",
      "    slope=float(a*b-c*d)/(a*f-c**2)\n",
      "    intercept=float(f*d-c*e)/(a*f-c**2)\n",
      "    slerr=float(a/(a*f-c**2))**.5\n",
      "    interr=float(f/(a*f-c**2))**.5\n",
      "    return slope,intercept,slerr,interr"
     ],
     "language": "python",
     "metadata": {},
     "outputs": [],
     "prompt_number": 44
    },
    {
     "cell_type": "code",
     "collapsed": false,
     "input": [
      "#read in data from Ex 1, should get m=-.415+-.0066 b=8.2201+-.0214\n",
      "x,y = loadtxt('LinearData.dat', unpack=True, usecols=[0,1])\n",
      "print x\n",
      "print y\n",
      "print WeightedLinearLeastSquaresFit(x,y)\n",
      "#anyone know why uncertainty of y is = 0 everywhere?"
     ],
     "language": "python",
     "metadata": {},
     "outputs": [
      {
       "output_type": "stream",
       "stream": "stdout",
       "text": [
        "[  1.   2.   3.   4.   5.   6.   7.   8.   9.  10.]\n",
        "[ 7.75  7.33  6.89  6.45  5.96  5.55  5.1   4.49  3.93  3.58]\n",
        "delta [-0.07454545 -0.02309091  0.00836364  0.03981818  0.02127273  0.08272727\n",
        "  0.10418182 -0.03436364 -0.12290909 -0.00145455]\n",
        "unc y [-0. -0.  0.  0.  0.  0.  0. -0. -0. -0.]\n",
        "w [-inf -inf  inf  inf  inf  inf  inf -inf -inf -inf]\n",
        "(nan, nan, nan, nan)\n"
       ]
      },
      {
       "output_type": "stream",
       "stream": "stderr",
       "text": [
        "-c:34: RuntimeWarning: divide by zero encountered in double_scalars\n",
        "-c:55: RuntimeWarning: invalid value encountered in double_scalars\n",
        "-c:56: RuntimeWarning: invalid value encountered in double_scalars\n",
        "-c:57: RuntimeWarning: invalid value encountered in double_scalars\n"
       ]
      }
     ],
     "prompt_number": 45
    },
    {
     "cell_type": "code",
     "collapsed": false,
     "input": [
      "plot(x, y,linestyle='*')\n",
      "y1=x*LinearLeastSquaresFit(x,y)[0]+LinearLeastSquaresFit(x,y)[2]\n",
      "y2=x*WeightedLinearLeastSquaresFit(x,y)[0]+WeightedLinearLeastSquaresFit(x,y)[2]\n",
      "errorbar(x,y1)"
     ],
     "language": "python",
     "metadata": {},
     "outputs": [
      {
       "output_type": "stream",
       "stream": "stdout",
       "text": [
        "delta [-0.07454545 -0.02309091  0.00836364  0.03981818  0.02127273  0.08272727\n",
        "  0.10418182 -0.03436364 -0.12290909 -0.00145455]\n",
        "unc y [-0. -0.  0.  0.  0.  0.  0. -0. -0. -0.]\n",
        "w [-inf -inf  inf  inf  inf  inf  inf -inf -inf -inf]\n",
        "delta [-0.07454545 -0.02309091  0.00836364  0.03981818  0.02127273  0.08272727\n",
        "  0.10418182 -0.03436364 -0.12290909 -0.00145455]\n",
        "unc y [-0. -0.  0.  0.  0.  0.  0. -0. -0. -0.]\n",
        "w [-inf -inf  inf  inf  inf  inf  inf -inf -inf -inf]\n"
       ]
      },
      {
       "output_type": "pyout",
       "prompt_number": 47,
       "text": [
        "<Container object of 3 artists>"
       ]
      },
      {
       "output_type": "display_data",
       "png": "[encoded data removed]"
      }
     ],
     "prompt_number": 47
    },
    {
     "cell_type": "code",
     "collapsed": false,
     "input": [],
     "language": "python",
     "metadata": {},
     "outputs": []
    }
   ],
   "metadata": {}
  }
 ]
}