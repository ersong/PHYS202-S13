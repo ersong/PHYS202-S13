{
 "metadata": {
  "name": "Project 1"
 },
 "nbformat": 3,
 "nbformat_minor": 0,
 "worksheets": [
  {
   "cells": [
    {
     "cell_type": "code",
     "collapsed": false,
     "input": [
      "#\n",
      "from numpy import random"
     ],
     "language": "python",
     "metadata": {},
     "outputs": [],
     "prompt_number": 1
    },
    {
     "cell_type": "code",
     "collapsed": false,
     "input": [
      "N=numpy.random.random(1)*pi\n",
      "d=1.3#diameter km\n",
      "r=d/2\n",
      "H=15#km\n",
      "interval=1000."
     ],
     "language": "python",
     "metadata": {},
     "outputs": [],
     "prompt_number": 18
    },
    {
     "cell_type": "code",
     "collapsed": false,
     "input": [
      "def check_cone(x,y,z,H,N,th,steps):\n",
      "    \"\"\"Take (x,y,z) coordinates, height 'H' of incident point, incident angle 'N' (degrees),\n",
      "    angular width of cone 'th' (degrees), number of x divisions 'steps,' returns whether detector is within cone.\"\"\"\n",
      "    h=H-z\n",
      "    pta=h/sin(-N)+h/sin(th)#close + far points\n",
      "    ptb=h/sin(N)+h/sin(th)\n",
      "    ptc=h*tan(N)#center of ellipse\n",
      "    ptl=h*tan(N)#sides of ellipse\n",
      "    ptr=-h*tan(N)\n",
      "    print tan(N)\n",
      "    xi=0\n",
      "    xf=xi+float(ptb-pta)#bounds of x\n",
      "    dx=abs(xf-xi)/steps\n",
      "    centerx=float(pta+ptb)/2#location of ellipse\n",
      "    centery=float(ptl+ptr)/2\n",
      "    a=abs(xf-xi)/2#ellipse axes\n",
      "    b=abs(ptl-ptr)/2\n",
      "    xs=arange(xi,xf+dx/2,dx)#range of x's\n",
      "    y1=lambda xs: a*(1-((xs-centerx)/b)**2)**.5+centery\n",
      "    y2=lambda xs: -(a*(1-((xs-centerx)/b)**2)**.5+centery)\n",
      "    print \"major axis interval [\",pta,ptb,\"]\"\n",
      "    print \"minor axis interval [\",ptl,ptr,\"]\"\n",
      "    print \"center: \",ptc\n",
      "    print \"x:\",x,\" xi:\",xi,\" xf:\",xf\n",
      "    print \"y:\",y,\" y1:\",y1(x),\" y2:\",y2(x)\n",
      "    #print \"H,h\",H,h\n",
      "    if x>=xi and x<=xf:#check if x within bounds\n",
      "        yn1=y1(x)#find y bounds on ellipse\n",
      "        yn2=y2(x)\n",
      "        if yn2>yn1:#check if within y bounds\n",
      "            print \"y2>y1\"\n",
      "            if y<=yn2 and y>=yn1:#not sure if y2 > < = y1\n",
      "                return True\n",
      "            else:\n",
      "                return \"y out of bounds\"\n",
      "        elif yn2<yn1:\n",
      "            print \"y1>y2\"\n",
      "            if y<=yn1 and y>=yn2:\n",
      "                return True\n",
      "            else:\n",
      "                return \"y out of bounds\"\n",
      "    else:\n",
      "        return \"x out of bounds\""
     ],
     "language": "python",
     "metadata": {},
     "outputs": [],
     "prompt_number": 55
    },
    {
     "cell_type": "code",
     "collapsed": false,
     "input": [
      "#make some detectors\n",
      "d1=[0,0,336*0.0003048]\n",
      "d2=[.65,0,590*0.0003048]\n",
      "d3=[-.65,0,286*0.0003048]\n",
      "d4=[0,.65,379*0.0003048]\n",
      "d5=[0,-.65,295*0.0003048]\n",
      "d6=[.28,-.31,299*0.0003048]\n",
      "d7=[.12,-.45,336*0.0003048]\n",
      "d8=[-.1,.52,357*0.0003048]\n",
      "d9=[.54,.14,520*0.0003048]\n",
      "d10=[.38,-.33,389*0.0003048]"
     ],
     "language": "python",
     "metadata": {},
     "outputs": [],
     "prompt_number": 56
    },
    {
     "cell_type": "code",
     "collapsed": false,
     "input": [
      "print \"test case\"\n",
      "print check_cone(d1[0],d1[1],d1[2],H,pi/2,30*pi/180.,interval)#Origin (detector 1) should be under cone straight down in wide cone"
     ],
     "language": "python",
     "metadata": {},
     "outputs": [
      {
       "output_type": "stream",
       "stream": "stdout",
       "text": [
        "test case\n",
        "0.57735026919\n",
        "major axis interval [ 14.8975872 44.6927616 ]\n",
        "minor axis interval [ 8.6011259802 -8.6011259802 ]\n",
        "center:  2.43296062348e+17\n",
        "x: 0  xi: 0  xf: 29.7951744\n",
        "y: 0  y1: nan  y2: nan\n",
        "None\n"
       ]
      },
      {
       "output_type": "stream",
       "stream": "stderr",
       "text": [
        "-c:20: RuntimeWarning: invalid value encountered in double_scalars\n"
       ]
      }
     ],
     "prompt_number": 57
    },
    {
     "cell_type": "code",
     "collapsed": false,
     "input": [
      "N=2*pi/180\n",
      "print check_cone(d1[0],d1[1],d1[2],H,N,pi/180.,interval)\n",
      "print check_cone(d2[0],d2[1],d2[2],H,N,pi/180.,interval)\n",
      "print check_cone(d3[0],d3[1],d3[2],H,N,pi/180.,interval)\n",
      "print check_cone(d4[0],d4[1],d4[2],H,N,pi/180.,interval)\n",
      "print check_cone(d5[0],d5[1],d5[2],H,N,pi/180.,interval)\n",
      "print check_cone(d6[0],d6[1],d6[2],H,N,pi/180.,interval)\n",
      "print check_cone(d7[0],d7[1],d7[2],H,N,pi/180.,interval)\n",
      "print check_cone(d8[0],d8[1],d8[2],H,N,pi/180.,interval)\n",
      "print check_cone(d9[0],d9[1],d9[2],H,N,pi/180.,interval)\n",
      "print check_cone(d10[0],d10[1],d10[2],H,N,pi/180.,interval)\n",
      "#discarded but with Math errors I can't figure out"
     ],
     "language": "python",
     "metadata": {},
     "outputs": [
      {
       "output_type": "stream",
       "stream": "stdout",
       "text": [
        "0.0174550649282\n",
        "major axis interval [ 426.741089637 1280.48332707 ]\n",
        "minor axis interval [ 0.26003835185 -0.26003835185 ]\n",
        "center:  0.520235208594\n",
        "x: 0  xi: 0  xf: 853.742237431\n",
        "y: 0  y1: nan  y2: nan\n",
        "None\n",
        "0.0174550649282\n",
        "major axis interval [ 424.52341819 1273.82896127 ]\n",
        "minor axis interval [ 0.258686994687 -0.258686994687 ]\n",
        "center:  0.517531670557\n",
        "x: 0.65  xi: 0  xf: 849.305543076\n",
        "y: 0  y1: nan  y2: nan\n",
        "None\n",
        "0.0174550649282\n",
        "major axis interval [ 427.177639135 1281.7932416 ]\n",
        "minor axis interval [ 0.260304367039 -0.260304367039 ]\n",
        "center:  0.520767401121\n",
        "x: -0.65  xi: 0  xf: 854.615602461\n",
        "y: 0  y1: nan  y2: nan\n",
        "x out of bounds\n",
        "0.0174550649282\n",
        "major axis interval [ 426.36565707 1279.35680057 ]\n",
        "minor axis interval [ 0.259809578787 -0.259809578787 ]\n",
        "center:  0.519777523021\n",
        "x: 0  xi: 0  xf: 852.991143505\n",
        "y: 0.65  y1: nan  y2: nan\n",
        "None\n",
        "0.0174550649282\n",
        "major axis interval [ 427.099060225 1281.55745698 ]\n",
        "minor axis interval [ 0.260256484305 -0.260256484305 ]\n",
        "center:  0.520671606467\n",
        "x: 0  xi: 0  xf: 854.458396756\n",
        "y: -0.65  y1: nan  y2: nan\n",
        "None\n",
        "0.0174550649282\n",
        "major axis interval [ 427.064136266 1281.45266382 ]\n",
        "minor axis interval [ 0.26023520309 -0.26023520309 ]\n",
        "center:  0.520629031064\n",
        "x: 0.28  xi: 0  xf: 854.388527553\n",
        "y: -0.31  y1: nan  y2: nan\n",
        "None\n",
        "0.0174550649282\n",
        "major axis interval [ 426.741089637 1280.48332707 ]\n",
        "minor axis interval [ 0.26003835185 -0.26003835185 ]\n",
        "center:  0.520235208594\n",
        "x: 0.12  xi: 0  xf: 853.742237431\n",
        "y: -0.45  y1: nan  y2: nan\n",
        "None\n",
        "0.0174550649282\n",
        "major axis interval [ 426.557738848 1279.93316297 ]\n",
        "minor axis interval [ 0.25992662547 -0.25992662547 ]\n",
        "center:  0.520011687733\n",
        "x: -0.1  xi: 0  xf: 853.375424118\n",
        "y: 0.52  y1: nan  y2: nan\n",
        "x out of bounds\n",
        "0.0174550649282\n",
        "major axis interval [ 425.134587487 1275.66284161 ]\n",
        "minor axis interval [ 0.259059415952 -0.259059415952 ]\n",
        "center:  0.518276740095\n",
        "x: 0.54  xi: 0  xf: 850.528254119\n",
        "y: 0.14  y1: nan  y2: nan\n",
        "None\n",
        "0.0174550649282\n",
        "major axis interval [ 426.27834717 1279.09481767 ]\n",
        "minor axis interval [ 0.259756375749 -0.259756375749 ]\n",
        "center:  0.519671084516\n",
        "x: 0.38  xi: 0  xf: 852.816470498\n",
        "y: -0.33  y1: nan  y2: nan\n",
        "None\n"
       ]
      }
     ],
     "prompt_number": 58
    },
    {
     "cell_type": "code",
     "collapsed": false,
     "input": [
      "# next stuff not for current checkpoint\n",
      "print \"Incident = 1 degree\"\n",
      "hits=0\n",
      "th=pi/180.\n",
      "steps=interval\n",
      "def rundetector(d):\n",
      "    check_cone(d[0],d[1],d[2],H,N,th,steps)\n",
      "    if check_cone(d[0],d[1],d[2],H,N,th,steps)==True:\n",
      "        hits+=1\n",
      "    else:\n",
      "        hits+=0\n",
      "rundetector(d1)\n",
      "if hits<3:\n",
      "    print \"Discarded\"\n"
     ],
     "language": "python",
     "metadata": {},
     "outputs": [
      {
       "ename": "UnboundLocalError",
       "evalue": "local variable 'hits' referenced before assignment",
       "output_type": "pyerr",
       "traceback": [
        "\u001b[1;31m---------------------------------------------------------------------------\u001b[0m\n\u001b[1;31mUnboundLocalError\u001b[0m                         Traceback (most recent call last)",
        "\u001b[1;32m<ipython-input-37-ae3715ec6ba9>\u001b[0m in \u001b[0;36m<module>\u001b[1;34m()\u001b[0m\n\u001b[0;32m     10\u001b[0m     \u001b[1;32melse\u001b[0m\u001b[1;33m:\u001b[0m\u001b[1;33m\u001b[0m\u001b[0m\n\u001b[0;32m     11\u001b[0m         \u001b[0mhits\u001b[0m\u001b[1;33m+=\u001b[0m\u001b[1;36m0\u001b[0m\u001b[1;33m\u001b[0m\u001b[0m\n\u001b[1;32m---> 12\u001b[1;33m \u001b[0mrundetector\u001b[0m\u001b[1;33m(\u001b[0m\u001b[0md1\u001b[0m\u001b[1;33m)\u001b[0m\u001b[1;33m\u001b[0m\u001b[0m\n\u001b[0m\u001b[0;32m     13\u001b[0m \u001b[1;32mif\u001b[0m \u001b[0mhits\u001b[0m\u001b[1;33m<\u001b[0m\u001b[1;36m3\u001b[0m\u001b[1;33m:\u001b[0m\u001b[1;33m\u001b[0m\u001b[0m\n\u001b[0;32m     14\u001b[0m     \u001b[1;32mprint\u001b[0m \u001b[1;34m\"Discarded\"\u001b[0m\u001b[1;33m\u001b[0m\u001b[0m\n",
        "\u001b[1;32m<ipython-input-37-ae3715ec6ba9>\u001b[0m in \u001b[0;36mrundetector\u001b[1;34m(d)\u001b[0m\n\u001b[0;32m      9\u001b[0m         \u001b[0mhits\u001b[0m\u001b[1;33m+=\u001b[0m\u001b[1;36m1\u001b[0m\u001b[1;33m\u001b[0m\u001b[0m\n\u001b[0;32m     10\u001b[0m     \u001b[1;32melse\u001b[0m\u001b[1;33m:\u001b[0m\u001b[1;33m\u001b[0m\u001b[0m\n\u001b[1;32m---> 11\u001b[1;33m         \u001b[0mhits\u001b[0m\u001b[1;33m+=\u001b[0m\u001b[1;36m0\u001b[0m\u001b[1;33m\u001b[0m\u001b[0m\n\u001b[0m\u001b[0;32m     12\u001b[0m \u001b[0mrundetector\u001b[0m\u001b[1;33m(\u001b[0m\u001b[0md1\u001b[0m\u001b[1;33m)\u001b[0m\u001b[1;33m\u001b[0m\u001b[0m\n\u001b[0;32m     13\u001b[0m \u001b[1;32mif\u001b[0m \u001b[0mhits\u001b[0m\u001b[1;33m<\u001b[0m\u001b[1;36m3\u001b[0m\u001b[1;33m:\u001b[0m\u001b[1;33m\u001b[0m\u001b[0m\n",
        "\u001b[1;31mUnboundLocalError\u001b[0m: local variable 'hits' referenced before assignment"
       ]
      },
      {
       "output_type": "stream",
       "stream": "stdout",
       "text": [
        "Incident = 1 degree\n",
        "major axis interval [ 426.741089637 1280.48332707 ]\n",
        "minor axis interval [ 0.520235208594 -0.520235208594 ]\n",
        "x: 0  xi: 0  xf: 853.742237431\n",
        "y: 0  y1: nan  y2: nan\n",
        "major axis interval [ 426.741089637 1280.48332707 ]\n",
        "minor axis interval [ 0.520235208594 -0.520235208594 ]\n",
        "x: 0  xi: 0  xf: 853.742237431\n",
        "y: 0  y1: nan  y2: nan\n"
       ]
      }
     ],
     "prompt_number": 37
    },
    {
     "cell_type": "code",
     "collapsed": false,
     "input": [],
     "language": "python",
     "metadata": {},
     "outputs": []
    }
   ],
   "metadata": {}
  }
 ]
}