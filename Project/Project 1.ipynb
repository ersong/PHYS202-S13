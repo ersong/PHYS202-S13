{
 "metadata": {
  "name": "Project 1"
 },
 "nbformat": 3,
 "nbformat_minor": 0,
 "worksheets": [
  {
   "cells": [
    {
     "cell_type": "code",
     "collapsed": false,
     "input": [
      "#\n",
      "from numpy import random"
     ],
     "language": "python",
     "metadata": {},
     "outputs": [],
     "prompt_number": 1
    },
    {
     "cell_type": "code",
     "collapsed": false,
     "input": [
      "N=numpy.random.random(1)*pi\n",
      "d=1.3#diameter km\n",
      "r=d/2\n",
      "H=15#km\n",
      "interval=1000."
     ],
     "language": "python",
     "metadata": {},
     "outputs": [],
     "prompt_number": 43
    },
    {
     "cell_type": "code",
     "collapsed": false,
     "input": [
      "#make some detectors\n",
      "d1=[0,0,336*0.0003048]#in [meters,meters,convert ft -> meters]\n",
      "d2=[.65,0,590*0.0003048]\n",
      "d3=[-.65,0,286*0.0003048]\n",
      "d4=[0,.65,379*0.0003048]\n",
      "d5=[0,-.65,295*0.0003048]\n",
      "d6=[.28,-.31,299*0.0003048]\n",
      "d7=[.12,-.45,336*0.0003048]\n",
      "d8=[-.1,.52,357*0.0003048]\n",
      "d9=[.54,.14,520*0.0003048]\n",
      "d10=[.38,-.33,389*0.0003048]"
     ],
     "language": "python",
     "metadata": {},
     "outputs": [],
     "prompt_number": 44
    },
    {
     "cell_type": "code",
     "collapsed": false,
     "input": [
      "def check_cone(x,y,z,H,N,th,steps):\n",
      "    \"\"\"Take (x,y,z) coordinates, height 'H' of incident point, incident angle 'N' (degrees),\n",
      "    angular width of cone 'th' (degrees), number of x divisions 'steps,' returns whether detector is within cone.\"\"\"\n",
      "    h=H-z\n",
      "    pta=h*tan(pi/2-N-th)#close + far points\n",
      "    ptb=h*tan(pi/2-N+th)\n",
      "    ptc=h*tan(th)#center of ellipse\n",
      "    ptl=h*tan(th)#sides of ellipse\n",
      "    ptr=-h*tan(th)\n",
      "    #print tan(N)\n",
      "    xi=float(pta)\n",
      "    xf=float(ptb)#bounds of x\n",
      "    if xi<xf:#check if x within bounds\n",
      "        if x<=xi or x>=xf:\n",
      "            return \"x out of bounds\"\n",
      "    elif xi>xf:#check if x within bounds\n",
      "        if x>=xi and x<=xf:\n",
      "            return \"x out of bounds\"\n",
      "    dx=(xf-xi)/steps\n",
      "    centerx=float(xi+xf)/2#location of ellipse\n",
      "    centery=float(ptl+ptr)/2\n",
      "    a=abs(xf-xi)#ellipse axes\n",
      "    b=abs(ptl-ptr)\n",
      "    xs=arange(xi,xf+dx,dx)#range of x's\n",
      "    y1=lambda xs: b*(1-((xs-centerx)/a)**2)**.5+centery\n",
      "    y2=lambda xs: -(b*(1-((xs-centerx)/a)**2)**.5+centery)\n",
      "   # print \"major axis interval [\",pta,ptb,\"]\",\"axis length:\",a\n",
      "   # print \"minor axis interval [\",ptl,ptr,\"]\",\"axis length:\",b\n",
      "    #print \"center: \",centerx,centery\n",
      "    #print \"x:\",x,\" xi:\",xi,\" xf:\",xf\n",
      "    #print \"y:\",y,\" y1:\",y1(x),\" y2:\",y2(x)\n",
      "    #print \"xs:\",xs\n",
      "    #print \"y1:\",y1(xs)[-10:-1]\n",
      "    #print \"y2:\",y2(xs)[-10:-1]\n",
      "    #print \"H,h\",H,h\n",
      "    if xi<xf:#check if x within bounds\n",
      "        if x>=xi and x<=xf:\n",
      "            yn1=y1(x)#find y bounds on ellipse\n",
      "            yn2=y2(x)\n",
      "            if yn2>yn1:#check if within y bounds\n",
      "               # print \"y2>y1\"\n",
      "                if y<=yn2 and y>=yn1:#not sure if y2 > < = y1\n",
      "                    return True\n",
      "                else:\n",
      "                    return \"y out of bounds\"\n",
      "            elif yn2<yn1:\n",
      "               # print \"y1>y2\"\n",
      "                if y<=yn1 and y>=yn2:\n",
      "                    return True\n",
      "                else:\n",
      "                    return \"y out of bounds\"\n",
      "        else:\n",
      "            return \"x out of bounds\"\n",
      "    elif xi>xf:#check if x within bounds\n",
      "        if x<=xi and x>=xf:\n",
      "            yn1=y1(x)#find y bounds on ellipse\n",
      "            yn2=y2(x)\n",
      "            if yn2>yn1:#check if within y bounds\n",
      "          #      print \"y2>y1\"\n",
      "                if y<=yn2 and y>=yn1:#not sure if y2 > < = y1\n",
      "                    return True\n",
      "                else:\n",
      "                    return \"y out of bounds\"\n",
      "            elif yn2<yn1:\n",
      "           #     print \"y1>y2\"\n",
      "                if y<=yn1 and y>=yn2:\n",
      "                    return True\n",
      "                else:\n",
      "                    return \"y out of bounds\"\n",
      "        else:\n",
      "            return \"x out of bounds\""
     ],
     "language": "python",
     "metadata": {},
     "outputs": [],
     "prompt_number": 61
    },
    {
     "cell_type": "code",
     "collapsed": false,
     "input": [
      "print \"test case\"\n",
      "print check_cone(d1[0],d1[1],d1[2],H,pi/2,30*pi/180.,interval)#Origin (detector 1) should be under cone straight down in wide cone"
     ],
     "language": "python",
     "metadata": {},
     "outputs": [
      {
       "output_type": "stream",
       "stream": "stdout",
       "text": [
        "test case\n",
        "True\n"
       ]
      }
     ],
     "prompt_number": 62
    },
    {
     "cell_type": "code",
     "collapsed": false,
     "input": [
      "N=pi/2\n",
      "th=13*pi/180\n",
      "print check_cone(d1[0],d1[1],d1[2],H,N,th,interval)\n",
      "print check_cone(d2[0],d2[1],d2[2],H,N,th,interval)\n",
      "print check_cone(d3[0],d3[1],d3[2],H,N,th,interval)\n",
      "print check_cone(d4[0],d4[1],d4[2],H,N,th,interval)\n",
      "print check_cone(d5[0],d5[1],d5[2],H,N,th,interval)\n",
      "print check_cone(d6[0],d6[1],d6[2],H,N,th,interval)\n",
      "print check_cone(d7[0],d7[1],d7[2],H,N,th,interval)\n",
      "print check_cone(d8[0],d8[1],d8[2],H,N,th,interval)\n",
      "print check_cone(d9[0],d9[1],d9[2],H,N,th,interval)\n",
      "print check_cone(d10[0],d10[1],d10[2],H,N,th,interval)\n",
      "#discarded but with Math errors I can't figure out"
     ],
     "language": "python",
     "metadata": {},
     "outputs": [
      {
       "output_type": "stream",
       "stream": "stdout",
       "text": [
        "True\n",
        "True\n",
        "True\n",
        "True\n",
        "True\n",
        "True\n",
        "True\n",
        "True\n",
        "True\n",
        "True\n"
       ]
      }
     ],
     "prompt_number": 63
    },
    {
     "cell_type": "code",
     "collapsed": false,
     "input": [
      "d=[d1,d2,d3,d4,d5,d6,d7,d8,d9,d10]\n",
      "def check_detectors(d,H,N,th,steps):\n",
      "    hits=0\n",
      "  #  t=zeros(shape(d))\n",
      "    for i in d:\n",
      "        if check_cone(i[0],i[1],i[2],H,N,th,steps)=='True':\n",
      "            print \"True\"\n",
      "            hits+=1\n",
      "       #     t[element_index(i)]=(H-i[2])/10.\n",
      "   #     else:\n",
      "    #        t=0\n",
      "    if hits>2:\n",
      "        return hits,\" muons\"\n",
      "    else:\n",
      "        return 'Discarded, Hits:',hits\n",
      "print check_detectors(d,H,pi/2,pi/180,interval)"
     ],
     "language": "python",
     "metadata": {},
     "outputs": [
      {
       "output_type": "stream",
       "stream": "stdout",
       "text": [
        "('Discarded, Hits:', 0)\n"
       ]
      }
     ],
     "prompt_number": 64
    },
    {
     "cell_type": "code",
     "collapsed": false,
     "input": [],
     "language": "python",
     "metadata": {},
     "outputs": []
    }
   ],
   "metadata": {}
  }
 ]
}