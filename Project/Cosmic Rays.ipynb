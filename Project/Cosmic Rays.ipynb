{
 "metadata": {
  "name": "Cosmic Rays"
 },
 "nbformat": 3,
 "nbformat_minor": 0,
 "worksheets": [
  {
   "cells": [
    {
     "cell_type": "code",
     "collapsed": false,
     "input": [
      "from numpy import random\n",
      "from scipy.random import *\n",
      "H=15#km\n",
      "interval=1000."
     ],
     "language": "python",
     "metadata": {},
     "outputs": [
      {
       "ename": "ImportError",
       "evalue": "No module named random",
       "output_type": "pyerr",
       "traceback": [
        "\u001b[1;31m---------------------------------------------------------------------------\u001b[0m\n\u001b[1;31mImportError\u001b[0m                               Traceback (most recent call last)",
        "\u001b[1;32m<ipython-input-36-44fcf6cb6624>\u001b[0m in \u001b[0;36m<module>\u001b[1;34m()\u001b[0m\n\u001b[0;32m      1\u001b[0m \u001b[1;32mfrom\u001b[0m \u001b[0mnumpy\u001b[0m \u001b[1;32mimport\u001b[0m \u001b[0mrandom\u001b[0m\u001b[1;33m\u001b[0m\u001b[0m\n\u001b[1;32m----> 2\u001b[1;33m \u001b[1;32mfrom\u001b[0m \u001b[0mscipy\u001b[0m\u001b[1;33m.\u001b[0m\u001b[0mrandom\u001b[0m \u001b[1;32mimport\u001b[0m \u001b[1;33m*\u001b[0m\u001b[1;33m\u001b[0m\u001b[0m\n\u001b[0m\u001b[0;32m      3\u001b[0m \u001b[0mH\u001b[0m\u001b[1;33m=\u001b[0m\u001b[1;36m15\u001b[0m\u001b[1;31m#km\u001b[0m\u001b[1;33m\u001b[0m\u001b[0m\n\u001b[0;32m      4\u001b[0m \u001b[0minterval\u001b[0m\u001b[1;33m=\u001b[0m\u001b[1;36m1000.\u001b[0m\u001b[1;33m\u001b[0m\u001b[0m\n",
        "\u001b[1;31mImportError\u001b[0m: No module named random"
       ]
      }
     ],
     "prompt_number": 36
    },
    {
     "cell_type": "code",
     "collapsed": false,
     "input": [
      "def check_cone(x,y,z,x0,y0,H,N,th,steps):\n",
      "    \"\"\"Take (x,y,z) coordinates of detector, (x0,y0,H) of collision location, incident angle 'N' (degrees), angular width of cone 'th' (degrees), number of x divisions 'steps,' returns whether detector is within cone.\"\"\"\n",
      "    h=H-z\n",
      "    pta=-h*tan(pi/2-N-th)#close + far points\n",
      "    ptb=-h*tan(pi/2-N+th)\n",
      "    #ptc=h*tan(th)#center of ellipse\n",
      "    ptl=h*tan(th)#sides of ellipse\n",
      "    ptr=-h*tan(th)\n",
      "    xi=float(pta+x0)\n",
      "    xf=float(ptb+x0)#bounds of x\n",
      "    yi=float(ptl+y0)#bounds of y\n",
      "    yf=float(ptr+y0)\n",
      "    if xi<xf:#check if x within bounds\n",
      "        if x<=xi or x>=xf:\n",
      "            return \"x out of bounds\"\n",
      "    elif xi>xf:#check if x within bounds\n",
      "        if x>=xi and x<=xf:\n",
      "            return \"x out of bounds\"\n",
      "    dx=(xf-xi)/steps\n",
      "    centerx=float(xi+xf)/2.#location of ellipse\n",
      "    centery=float(yi+yf)/2.\n",
      "    #print \"center: \",centerx,centery\n",
      "    a=abs(xf-xi)/2#ellipse axes\n",
      "    b=abs(ptl-ptr)/2\n",
      "    #print \"major axis bounds: \",xi,xf,\"axis length: \",a\n",
      "    #print \"minor axis bounds: \",ptl,ptr,\"axis length: \",b\n",
      "    xs=arange(xi,xf+dx,dx)#range of x's,\n",
      "    #print \"x limits: \",xs[0],xs[len(xs)-1]\n",
      "    y1=lambda xs: b*(1-((xs-centerx)/a)**2)**.5+centery\n",
      "    y2=lambda xs: -(b*(1-((xs-centerx)/a)**2)**.5+centery)\n",
      "    #print \"x: \",xs\n",
      "    #print \"y1: \",y1(xs)\n",
      "    #print \"y2: \",y2(xs)\n",
      "    #print \"testing x bounds on y: \",xi,y1(xi),y2(xi),\"loc 2:\",xf,y1(xf),y2(xf)\n",
      "    if xi<xf:#check if xwithin bounds\n",
      "        if x>=xi and x<=xf:\n",
      "            yn1=y1(x)#find y bounds on ellipse,\n",
      "            yn2=y2(x)\n",
      "            #print \"loc: x-\",x,\"y: \",yn1,yn2\n",
      "            if yn2>yn1:#check if within y bounds\n",
      "                #print \"y2>y1\"\n",
      "                if y<=yn2 and y>=yn1:#not sure if y2 > < = y1\n",
      "                    return True\n",
      "                else:\n",
      "                    return \"y out of bounds\"\n",
      "            elif yn2<yn1:\n",
      "                #print \"y2<y1\"\n",
      "                if y<=yn1 and y>=yn2:\n",
      "                    return True\n",
      "                else:\n",
      "                    return \"y out of bounds\"\n",
      "        else:\n",
      "            return \"x out of bounds\"\n",
      "    elif xi>xf:#check if x within bounds\n",
      "        if x<=xi and x>=xf:\n",
      "            yn1=y1(x)#find y bounds on ellipse\n",
      "            yn2=y2(x)\n",
      "            #print \"loc: x-\",x,\"y: \",yn1,yn2\n",
      "            if yn2>yn1:#check if within y bounds\n",
      "                #print \"y2>y1\"\n",
      "                if y<=yn2 and y>=yn1:#not sure if y2 > < = y1\n",
      "                    return True\n",
      "                else:\n",
      "                    return \"y out of bounds\"\n",
      "            elif yn2<yn1:\n",
      "                #print \"y2<y1\"\n",
      "                if y<=yn1 and y>=yn2:\n",
      "                    return True\n",
      "                else:\n",
      "                    return \"y out of bounds\"\n",
      "        else:\n",
      "            return \"x out of bounds\"#,x1,y1(x1),y2(x1)"
     ],
     "language": "python",
     "metadata": {},
     "outputs": [],
     "prompt_number": 37
    },
    {
     "cell_type": "code",
     "collapsed": false,
     "input": [
      "#make some detectors\n",
      "d1=[0,0,336*0.0003048]#in [meters,meters,convert ft -> meters],\n",
      "d2=[.65,0,590*0.0003048]\n",
      "d3=[-.65,0,286*0.0003048]\n",
      "d4=[0,.65,379*0.0003048]\n",
      "d5=[0,-.65,295*0.0003048]\n",
      "d6=[.28,-.31,299*0.0003048]\n",
      "d7=[.12,-.45,336*0.0003048]\n",
      "d8=[-.1,.52,357*0.0003048]\n",
      "d9=[.54,.14,520*0.0003048]\n",
      "d10=[.38,-.33,389*0.0003048]"
     ],
     "language": "python",
     "metadata": {},
     "outputs": [],
     "prompt_number": 38
    },
    {
     "cell_type": "code",
     "collapsed": false,
     "input": [
      "print \"test case\"\n",
      "print check_cone(d1[0],d1[1],d1[2],0,0,H,pi/2.1,30*pi/180.,interval)#Origin (detector 1) should be under cone straight down in wide cone"
     ],
     "language": "python",
     "metadata": {},
     "outputs": [
      {
       "output_type": "stream",
       "stream": "stdout",
       "text": [
        "test case\n",
        "True\n"
       ]
      }
     ],
     "prompt_number": 39
    },
    {
     "cell_type": "code",
     "collapsed": false,
     "input": [
      "N=pi/2\n",
      "th=30*pi/180.\n",
      "print check_cone(d1[0],d1[1],d1[2],0,0,H,N,th,interval)\n",
      "print check_cone(d2[0],d2[1],d2[2],0,0,H,N,th,interval)\n",
      "print check_cone(d3[0],d3[1],d3[2],0,0,H,N,th,interval)\n",
      "print check_cone(d4[0],d4[1],d4[2],0,0,H,N,th,interval)\n",
      "print check_cone(d5[0],d5[1],d5[2],0,0,H,N,th,interval)\n",
      "print check_cone(d6[0],d6[1],d6[2],0,0,H,N,th,interval)\n",
      "print check_cone(d7[0],d7[1],d7[2],0,0,H,N,th,interval)\n",
      "print check_cone(d8[0],d8[1],d8[2],0,0,H,N,th,interval)\n",
      "print check_cone(d9[0],d9[1],d9[2],0,0,H,N,th,interval)\n",
      "print check_cone(d10[0],d10[1],d10[2],0,0,H,N,th,interval)\n",
      "#Manually check each detector, compare to function below\n",
      "Ec=6#GeV/c^2 original muon energy\n",
      "Eg=4#GeV/c^2 energy at generation in assumption\n",
      "c=float(3e8)\n",
      "#tdecay=float(2.2e-6)#decay time\n",
      "#print \"classic decay time:\",tdecay\n",
      "#v=float(660./tdecay)#given data\n",
      "#print \"v:\",v\n",
      "#print \"c:\",c\n",
      "m=.1056583715#GeV/c^2\n",
      "#E=\n",
      "gamma=lambda E: E/m\n",
      "#trel=tdecay*gamma(v)#relativistic time\n",
      "#vrel=v*gamma(v)#relativistic velocity\n",
      "#L=H/gamma#relatavistic length\n",
      "mean=4#GeV/c^2 average \n",
      "sigma=1.5#width of Gaussian\n",
      "#note, all are true (10 hits) for given inputs"
     ],
     "language": "python",
     "metadata": {},
     "outputs": [
      {
       "output_type": "stream",
       "stream": "stdout",
       "text": [
        "True\n",
        "True\n",
        "True\n",
        "True\n",
        "True\n",
        "True\n",
        "True\n",
        "True\n",
        "True\n",
        "True\n"
       ]
      }
     ],
     "prompt_number": 40
    },
    {
     "cell_type": "code",
     "collapsed": false,
     "input": [
      "d=[d1,d2,d3,d4,d5,d6,d7,d8,d9,d10]\n",
      "def check_detectors(d,x0,y0,H,N,th,steps):\n",
      "    \"\"\"Inputs detector array 'd,' collision position '(x0,y0,H),' impact angle N with respect to horizontal ground, half angle of cone 'th,' and steps on ground in x direction 'interval,' returns intervals which each detector was hit.\"\"\"\n",
      "    #put in relativistic time calculation here\n",
      "    #put energy calculation in here\n",
      "    hits=0\n",
      "    t=zeros(len(d))\n",
      "    ds=zeros(len(d))\n",
      "    r=zeros(len(d))\n",
      "    n=0#detector number\n",
      "    dist=zeros(len(d))#total distance\n",
      "    E=zeros(len(d))#energy of muon on detector\n",
      "    gam=zeros(len(d))#gamma for each part\n",
      "    v=zeros(len(d))#Lab speed measured from earth\n",
      "    for i in d:\n",
      "        n+=1\n",
      "        if check_cone(i[0],i[1],i[2],x0,y0,H,N,th,steps)==True:\n",
      "            h=H-i[2]\n",
      "            pta=-h*tan(pi/2-N-th)#close + far points\n",
      "            ptb=-h*tan(pi/2-N+th)\n",
      "            ptl=h*tan(th)#sides of ellipse\n",
      "            ptr=-h*tan(th)\n",
      "            xi=float(pta+x0)#x center of coordinates accounting for shift in disk\n",
      "            xf=float(ptb+x0)\n",
      "            yi=float(ptl+y0)#y center of coordinates\n",
      "            yf=float(ptr+y0)\n",
      "            center=[float(xi+xf)/2.,float(yi+yf)/2.]#center\n",
      "            #print \"True\"\n",
      "            hits+=1\n",
      "            #print hits\n",
      "            ds[n-1]=n#add a detector\n",
      "            r[n-1]=((i[0]-center[0])**2.+(i[1]-center[1])**2.)**.5#distance from center\n",
      "            dist[n-1]=((r[n-1]-h)**2)**.5\n",
      "            E[n-1]=abs(normal(loc=mean, scale=sigma, size=None))\n",
      "            gam[n-1]=gamma(E[n-1])#gamma >=1\n",
      "            v[n-1]=float(c*(1-(1/gam[n-1])**2.)**.5)\n",
      "            t[n-1]=float(dist[n-1]/v[n-1])\n",
      "        else:\n",
      "            print \"arrival time = 0\"\n",
      "            ds[n-1]=0\n",
      "    if hits>2:\n",
      "        t=sort(t)\n",
      "        dt=zeros(shape(t))#intervals in time\n",
      "        dt[0]=0\n",
      "        for i in range(1,len(t)):\n",
      "            dt[i]=t[i]-t[i-1]\n",
      "        return dt\n",
      "    else:\n",
      "        return 'Discarded, Hits:',hits\n",
      "dt= check_detectors(d,0,0,H,N,th,interval)\n",
      "print dt\n",
      "#check_detectors returns 10 true values for same unpit parameters"
     ],
     "language": "python",
     "metadata": {},
     "outputs": [
      {
       "output_type": "stream",
       "stream": "stdout",
       "text": [
        "[  0.00000000e+00   2.15184423e-10   1.19425665e-10   1.38261921e-11\n",
        "   6.44013628e-11   2.24515161e-10   6.04077064e-11   1.88679613e-10\n",
        "   2.10759252e-10   1.33642819e-09]\n"
       ]
      }
     ],
     "prompt_number": 41
    },
    {
     "cell_type": "code",
     "collapsed": false,
     "input": [
      "def run_event(d,steps,n):#spherical coordinates\n",
      "    \"\"\"Input detector array 'd,' interval to calculate ellipse 'steps,' and number of events 'n,'\"\"\"\n",
      "    dt=zeros(n)\n",
      "    for i in range(0,n):\n",
      "        x=numpy.random.random(.65)#allow .65x.65 box to test events for 1.3 km diameter cirle of events\n",
      "        y=numpy.random.random(.65)\n",
      "        N=numpy.random.random(pi)#180 degree incident angle from the sky\n",
      "        th=pi/180.#extrapolate 1 degree half angle of cone (instructions)\n",
      "        dt[i]=check_detectors(d,x,y,H,N,th,steps)#run each detector set, store in array\n",
      "    return dt"
     ],
     "language": "python",
     "metadata": {},
     "outputs": [],
     "prompt_number": 46
    },
    {
     "cell_type": "code",
     "collapsed": false,
     "input": [
      "dts=run_event(d,interval,100)#run 100 "
     ],
     "language": "python",
     "metadata": {},
     "outputs": [
      {
       "ename": "ValueError",
       "evalue": "operands could not be broadcast together with shapes (3) (0) ",
       "output_type": "pyerr",
       "traceback": [
        "\u001b[1;31m---------------------------------------------------------------------------\u001b[0m\n\u001b[1;31mValueError\u001b[0m                                Traceback (most recent call last)",
        "\u001b[1;32m<ipython-input-47-2285258407a0>\u001b[0m in \u001b[0;36m<module>\u001b[1;34m()\u001b[0m\n\u001b[1;32m----> 1\u001b[1;33m \u001b[0mdts\u001b[0m\u001b[1;33m=\u001b[0m\u001b[0mrun_event\u001b[0m\u001b[1;33m(\u001b[0m\u001b[0md\u001b[0m\u001b[1;33m,\u001b[0m\u001b[0minterval\u001b[0m\u001b[1;33m,\u001b[0m\u001b[1;36m100\u001b[0m\u001b[1;33m)\u001b[0m\u001b[1;31m#run 100\u001b[0m\u001b[1;33m\u001b[0m\u001b[0m\n\u001b[0m",
        "\u001b[1;32m<ipython-input-46-d7ad5e6791bd>\u001b[0m in \u001b[0;36mrun_event\u001b[1;34m(d, steps, n)\u001b[0m\n\u001b[0;32m      7\u001b[0m         \u001b[0mN\u001b[0m\u001b[1;33m=\u001b[0m\u001b[0mnumpy\u001b[0m\u001b[1;33m.\u001b[0m\u001b[0mrandom\u001b[0m\u001b[1;33m.\u001b[0m\u001b[0mrandom\u001b[0m\u001b[1;33m(\u001b[0m\u001b[0mpi\u001b[0m\u001b[1;33m)\u001b[0m\u001b[1;31m#180 degree incident angle from the sky\u001b[0m\u001b[1;33m\u001b[0m\u001b[0m\n\u001b[0;32m      8\u001b[0m         \u001b[0mth\u001b[0m\u001b[1;33m=\u001b[0m\u001b[0mpi\u001b[0m\u001b[1;33m/\u001b[0m\u001b[1;36m180.\u001b[0m\u001b[1;31m#extrapolate 1 degree half angle of cone (instructions)\u001b[0m\u001b[1;33m\u001b[0m\u001b[0m\n\u001b[1;32m----> 9\u001b[1;33m         \u001b[0mdt\u001b[0m\u001b[1;33m[\u001b[0m\u001b[0mi\u001b[0m\u001b[1;33m]\u001b[0m\u001b[1;33m=\u001b[0m\u001b[0mcheck_detectors\u001b[0m\u001b[1;33m(\u001b[0m\u001b[0md\u001b[0m\u001b[1;33m,\u001b[0m\u001b[0mx\u001b[0m\u001b[1;33m,\u001b[0m\u001b[0my\u001b[0m\u001b[1;33m,\u001b[0m\u001b[0mH\u001b[0m\u001b[1;33m,\u001b[0m\u001b[0mN\u001b[0m\u001b[1;33m,\u001b[0m\u001b[0mth\u001b[0m\u001b[1;33m,\u001b[0m\u001b[0msteps\u001b[0m\u001b[1;33m)\u001b[0m\u001b[1;31m#run each detector set, store in array\u001b[0m\u001b[1;33m\u001b[0m\u001b[0m\n\u001b[0m\u001b[0;32m     10\u001b[0m     \u001b[1;32mreturn\u001b[0m \u001b[0mdt\u001b[0m\u001b[1;33m\u001b[0m\u001b[0m\n",
        "\u001b[1;32m<ipython-input-41-8185f1ca3ed7>\u001b[0m in \u001b[0;36mcheck_detectors\u001b[1;34m(d, x0, y0, H, N, th, steps)\u001b[0m\n\u001b[0;32m     15\u001b[0m     \u001b[1;32mfor\u001b[0m \u001b[0mi\u001b[0m \u001b[1;32min\u001b[0m \u001b[0md\u001b[0m\u001b[1;33m:\u001b[0m\u001b[1;33m\u001b[0m\u001b[0m\n\u001b[0;32m     16\u001b[0m         \u001b[0mn\u001b[0m\u001b[1;33m+=\u001b[0m\u001b[1;36m1\u001b[0m\u001b[1;33m\u001b[0m\u001b[0m\n\u001b[1;32m---> 17\u001b[1;33m         \u001b[1;32mif\u001b[0m \u001b[0mcheck_cone\u001b[0m\u001b[1;33m(\u001b[0m\u001b[0mi\u001b[0m\u001b[1;33m[\u001b[0m\u001b[1;36m0\u001b[0m\u001b[1;33m]\u001b[0m\u001b[1;33m,\u001b[0m\u001b[0mi\u001b[0m\u001b[1;33m[\u001b[0m\u001b[1;36m1\u001b[0m\u001b[1;33m]\u001b[0m\u001b[1;33m,\u001b[0m\u001b[0mi\u001b[0m\u001b[1;33m[\u001b[0m\u001b[1;36m2\u001b[0m\u001b[1;33m]\u001b[0m\u001b[1;33m,\u001b[0m\u001b[0mx0\u001b[0m\u001b[1;33m,\u001b[0m\u001b[0my0\u001b[0m\u001b[1;33m,\u001b[0m\u001b[0mH\u001b[0m\u001b[1;33m,\u001b[0m\u001b[0mN\u001b[0m\u001b[1;33m,\u001b[0m\u001b[0mth\u001b[0m\u001b[1;33m,\u001b[0m\u001b[0msteps\u001b[0m\u001b[1;33m)\u001b[0m\u001b[1;33m==\u001b[0m\u001b[0mTrue\u001b[0m\u001b[1;33m:\u001b[0m\u001b[1;33m\u001b[0m\u001b[0m\n\u001b[0m\u001b[0;32m     18\u001b[0m             \u001b[0mh\u001b[0m\u001b[1;33m=\u001b[0m\u001b[0mH\u001b[0m\u001b[1;33m-\u001b[0m\u001b[0mi\u001b[0m\u001b[1;33m[\u001b[0m\u001b[1;36m2\u001b[0m\u001b[1;33m]\u001b[0m\u001b[1;33m\u001b[0m\u001b[0m\n\u001b[0;32m     19\u001b[0m             \u001b[0mpta\u001b[0m\u001b[1;33m=\u001b[0m\u001b[1;33m-\u001b[0m\u001b[0mh\u001b[0m\u001b[1;33m*\u001b[0m\u001b[0mtan\u001b[0m\u001b[1;33m(\u001b[0m\u001b[0mpi\u001b[0m\u001b[1;33m/\u001b[0m\u001b[1;36m2\u001b[0m\u001b[1;33m-\u001b[0m\u001b[0mN\u001b[0m\u001b[1;33m-\u001b[0m\u001b[0mth\u001b[0m\u001b[1;33m)\u001b[0m\u001b[1;31m#close + far points\u001b[0m\u001b[1;33m\u001b[0m\u001b[0m\n",
        "\u001b[1;32m<ipython-input-37-8a1cd14e8061>\u001b[0m in \u001b[0;36mcheck_cone\u001b[1;34m(x, y, z, x0, y0, H, N, th, steps)\u001b[0m\n\u001b[0;32m      7\u001b[0m     \u001b[0mptl\u001b[0m\u001b[1;33m=\u001b[0m\u001b[0mh\u001b[0m\u001b[1;33m*\u001b[0m\u001b[0mtan\u001b[0m\u001b[1;33m(\u001b[0m\u001b[0mth\u001b[0m\u001b[1;33m)\u001b[0m\u001b[1;31m#sides of ellipse\u001b[0m\u001b[1;33m\u001b[0m\u001b[0m\n\u001b[0;32m      8\u001b[0m     \u001b[0mptr\u001b[0m\u001b[1;33m=\u001b[0m\u001b[1;33m-\u001b[0m\u001b[0mh\u001b[0m\u001b[1;33m*\u001b[0m\u001b[0mtan\u001b[0m\u001b[1;33m(\u001b[0m\u001b[0mth\u001b[0m\u001b[1;33m)\u001b[0m\u001b[1;33m\u001b[0m\u001b[0m\n\u001b[1;32m----> 9\u001b[1;33m     \u001b[0mxi\u001b[0m\u001b[1;33m=\u001b[0m\u001b[0mfloat\u001b[0m\u001b[1;33m(\u001b[0m\u001b[0mpta\u001b[0m\u001b[1;33m+\u001b[0m\u001b[0mx0\u001b[0m\u001b[1;33m)\u001b[0m\u001b[1;33m\u001b[0m\u001b[0m\n\u001b[0m\u001b[0;32m     10\u001b[0m     \u001b[0mxf\u001b[0m\u001b[1;33m=\u001b[0m\u001b[0mfloat\u001b[0m\u001b[1;33m(\u001b[0m\u001b[0mptb\u001b[0m\u001b[1;33m+\u001b[0m\u001b[0mx0\u001b[0m\u001b[1;33m)\u001b[0m\u001b[1;31m#bounds of x\u001b[0m\u001b[1;33m\u001b[0m\u001b[0m\n\u001b[0;32m     11\u001b[0m     \u001b[0myi\u001b[0m\u001b[1;33m=\u001b[0m\u001b[0mfloat\u001b[0m\u001b[1;33m(\u001b[0m\u001b[0mptl\u001b[0m\u001b[1;33m+\u001b[0m\u001b[0my0\u001b[0m\u001b[1;33m)\u001b[0m\u001b[1;31m#bounds of y\u001b[0m\u001b[1;33m\u001b[0m\u001b[0m\n",
        "\u001b[1;31mValueError\u001b[0m: operands could not be broadcast together with shapes (3) (0) "
       ]
      }
     ],
     "prompt_number": 47
    },
    {
     "cell_type": "code",
     "collapsed": false,
     "input": [],
     "language": "python",
     "metadata": {},
     "outputs": []
    }
   ],
   "metadata": {}
  }
 ]
}