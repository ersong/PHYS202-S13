{
 "metadata": {
  "name": "Cosmic Rays"
 },
 "nbformat": 3,
 "nbformat_minor": 0,
 "worksheets": [
  {
   "cells": [
    {
     "cell_type": "code",
     "collapsed": false,
     "input": [
      "from numpy import random\n",
      "N=numpy.random.random(1)*pi\n",
      "d=1.3#diameter km\n",
      "r=d/2\n",
      "H=15#km\n",
      "interval=1000."
     ],
     "language": "python",
     "metadata": {},
     "outputs": [],
     "prompt_number": 3
    },
    {
     "cell_type": "code",
     "collapsed": false,
     "input": [
      "#make some detectors\n",
      "d1=[0,0,336*0.0003048]#in [meters,meters,convert ft -> meters],\n",
      "d2=[.65,0,590*0.0003048]\n",
      "d3=[-.65,0,286*0.0003048],\n",
      "d4=[0,.65,379*0.0003048]\n",
      "d5=[0,-.65,295*0.0003048]\n",
      "d6=[.28,-.31,299*0.0003048]\n",
      "d7=[.12,-.45,336*0.0003048]\n",
      "d8=[-.1,.52,357*0.0003048]\n",
      "d9=[.54,.14,520*0.0003048]\n",
      "d10=[.38,-.33,389*0.0003048]"
     ],
     "language": "python",
     "metadata": {},
     "outputs": [],
     "prompt_number": 4
    },
    {
     "cell_type": "code",
     "collapsed": false,
     "input": [
      "def check_cone(x,y,z,H,N,th,steps):\n",
      "    \"\"\"Take (x,y,z) coordinates, height 'H' of incident point, incident angle 'N' (degrees), angular width of cone 'th' (degrees), number of x divisions 'steps,' returns whether detector is within cone.\"\"\"\n",
      "    h=H-z\n",
      "    pta=h*tan(pi/2-N-th)#close + far points\n",
      "    ptb=h*tan(pi/2-N+th)\n",
      "    #ptc=h*tan(th)#center of ellipse\n",
      "    ptl=h*tan(th)#sides of ellipse\n",
      "    ptr=-h*tan(th)\n",
      "    xi=float(pta)\n",
      "    xf=float(ptb)#bounds of x\n",
      "    if xi<xf:#check if x within bounds\n",
      "        if x<=xi or x>=xf:\n",
      "            return \"x out of bounds\"\n",
      "    elif xi>xf:#check if x within bounds\n",
      "        if x>=xi and x<=xf:\n",
      "            return \"x out of bounds\"\n",
      "    dx=(xf-xi)/steps\n",
      "    centerx=float(xi+xf)/2.#location of ellipse\n",
      "    centery=float(ptl+ptr)/2.\n",
      "    print \"center: \",centerx,centery\n",
      "    a=abs(xf-xi)#ellipse axes\n",
      "    b=abs(ptl-ptr)\n",
      "    print \"major axis bounds: \",xi,xf,\"axis length: \",a\n",
      "    print \"minor axis bounds: \",ptl,ptr,\"axis length: \",b\n",
      "    xs=arange(xi,xf+dx,dx)#range of x's,\n",
      "    #print \"x: \",xs\n",
      "    y1=lambda xs: b*(1-((xs-centerx)/a)**2)**.5+centery\n",
      "    y2=lambda xs: -(b*(1-((xs-centerx)/a)**2)**.5+centery)\n",
      "    #print \"y1: \",y1(xs)\n",
      "    #print \"y2: \",y2(xs)\n",
      "    if xi<xf:#check if x within bounds\n",
      "        if x>=xi and x<=xf:\n",
      "            yn1=y1(x)#find y bounds on ellipse,\n",
      "            yn2=y2(x)\n",
      "            print \"loc y:\",yn1,yn2\n",
      "            if yn2>yn1:#check if within y bounds\n",
      "                print \"y2>y1\"\n",
      "                if y<=yn2 and y>=yn1:#not sure if y2 > < = y1\n",
      "                    return True\n",
      "                else:\n",
      "                    return \"y out of bounds\"\n",
      "            elif yn2<yn1:\n",
      "                print \"y2<y1\"\n",
      "                if y<=yn1 and y>=yn2:\n",
      "                    return True\n",
      "                else:\n",
      "                    return \"y out of bounds\"\n",
      "        else:\n",
      "            return \"x out of bounds\"\n",
      "    elif xi>xf:#check if x within bounds\n",
      "        if x<=xi and x>=xf:\n",
      "            yn1=y1(x)#find y bounds on ellipse\n",
      "            yn2=y2(x)\n",
      "            print \"loc y:\",yn1,yn2\n",
      "            if yn2>yn1:#check if within y bounds\n",
      "                print \"y2>y1\"\n",
      "                if y<=yn2 and y>=yn1:#not sure if y2 > < = y1\n",
      "                    return True\n",
      "                else:\n",
      "                    return \"y out of bounds\"\n",
      "            elif yn2<yn1:\n",
      "                print \"y2<y1\"\n",
      "                if y<=yn1 and y>=yn2:\n",
      "                    return True\n",
      "                else:\n",
      "                    return \"y out of bounds\"\n",
      "        else:\n",
      "            return \"x out of bounds\""
     ],
     "language": "python",
     "metadata": {},
     "outputs": [],
     "prompt_number": 40
    },
    {
     "cell_type": "code",
     "collapsed": false,
     "input": [
      "print \"test case\"\n",
      "print check_cone(d1[0],d1[1],d1[2],H,pi/2,30*pi/180.,interval)#Origin (detector 1) should be under cone straight down in wide cone"
     ],
     "language": "python",
     "metadata": {},
     "outputs": [
      {
       "output_type": "stream",
       "stream": "stdout",
       "text": [
        "test case\n",
        "center:  0.0 0.0\n",
        "major axis bounds:  -8.6011259802 8.6011259802 axis length:  17.2022519604\n",
        "minor axis bounds:  8.6011259802 -8.6011259802 axis length:  17.2022519604\n",
        "y bounds:  8.6011259802 -8.6011259802\n",
        "loc y: 17.2022519604 -17.2022519604\n",
        "y2<y1\n",
        "True\n"
       ]
      }
     ],
     "prompt_number": 41
    },
    {
     "cell_type": "code",
     "collapsed": false,
     "input": [
      "N=pi/2.01\n",
      "th=30*pi/180.\n",
      "print check_cone(d1[0],d1[1],d1[2],H,N,th,interval)\n",
      "print check_cone(d2[0],d2[1],d2[2],H,N,th,interval)\n",
      "print check_cone(d3[0],d3[1],d3[2],H,N,th,interval)\n",
      "print check_cone(d4[0],d4[1],d4[2],H,N,th,interval)\n",
      "print check_cone(d5[0],d5[1],d5[2],H,N,th,interval)\n",
      "print check_cone(d6[0],d6[1],d6[2],H,N,th,interval)\n",
      "print check_cone(d7[0],d7[1],d7[2],H,N,th,interval)\n",
      "print check_cone(d8[0],d8[1],d8[2],H,N,th,interval)\n",
      "print check_cone(d9[0],d9[1],d9[2],H,N,th,interval)\n",
      "print check_cone(d10[0],d10[1],d10[2],H,N,th,interval)\n",
      "# Brute forced test case, it seem to match the results ofth emethod below.\n",
      "Ec=6#GeV/c^2\n",
      "Eg=4#GeV/c^2\n",
      "c=3e8\n",
      "gamma=1/(1-v/c)**.5\n",
      "L=H/gamma#relatavistic length"
     ],
     "language": "python",
     "metadata": {},
     "outputs": [
      {
       "ename": "IndexError",
       "evalue": "tuple index out of range",
       "output_type": "pyerr",
       "traceback": [
        "\u001b[1;31m---------------------------------------------------------------------------\u001b[0m\n\u001b[1;31mIndexError\u001b[0m                                Traceback (most recent call last)",
        "\u001b[1;32m<ipython-input-36-c2452db449ff>\u001b[0m in \u001b[0;36m<module>\u001b[1;34m()\u001b[0m\n\u001b[0;32m      3\u001b[0m \u001b[1;32mprint\u001b[0m \u001b[0mcheck_cone\u001b[0m\u001b[1;33m(\u001b[0m\u001b[0md1\u001b[0m\u001b[1;33m[\u001b[0m\u001b[1;36m0\u001b[0m\u001b[1;33m]\u001b[0m\u001b[1;33m,\u001b[0m\u001b[0md1\u001b[0m\u001b[1;33m[\u001b[0m\u001b[1;36m1\u001b[0m\u001b[1;33m]\u001b[0m\u001b[1;33m,\u001b[0m\u001b[0md1\u001b[0m\u001b[1;33m[\u001b[0m\u001b[1;36m2\u001b[0m\u001b[1;33m]\u001b[0m\u001b[1;33m,\u001b[0m\u001b[0mH\u001b[0m\u001b[1;33m,\u001b[0m\u001b[0mN\u001b[0m\u001b[1;33m,\u001b[0m\u001b[0mth\u001b[0m\u001b[1;33m,\u001b[0m\u001b[0minterval\u001b[0m\u001b[1;33m)\u001b[0m\u001b[1;33m\u001b[0m\u001b[0m\n\u001b[0;32m      4\u001b[0m \u001b[1;32mprint\u001b[0m \u001b[0mcheck_cone\u001b[0m\u001b[1;33m(\u001b[0m\u001b[0md2\u001b[0m\u001b[1;33m[\u001b[0m\u001b[1;36m0\u001b[0m\u001b[1;33m]\u001b[0m\u001b[1;33m,\u001b[0m\u001b[0md2\u001b[0m\u001b[1;33m[\u001b[0m\u001b[1;36m1\u001b[0m\u001b[1;33m]\u001b[0m\u001b[1;33m,\u001b[0m\u001b[0md2\u001b[0m\u001b[1;33m[\u001b[0m\u001b[1;36m2\u001b[0m\u001b[1;33m]\u001b[0m\u001b[1;33m,\u001b[0m\u001b[0mH\u001b[0m\u001b[1;33m,\u001b[0m\u001b[0mN\u001b[0m\u001b[1;33m,\u001b[0m\u001b[0mth\u001b[0m\u001b[1;33m,\u001b[0m\u001b[0minterval\u001b[0m\u001b[1;33m)\u001b[0m\u001b[1;33m\u001b[0m\u001b[0m\n\u001b[1;32m----> 5\u001b[1;33m \u001b[1;32mprint\u001b[0m \u001b[0mcheck_cone\u001b[0m\u001b[1;33m(\u001b[0m\u001b[0md3\u001b[0m\u001b[1;33m[\u001b[0m\u001b[1;36m0\u001b[0m\u001b[1;33m]\u001b[0m\u001b[1;33m,\u001b[0m\u001b[0md3\u001b[0m\u001b[1;33m[\u001b[0m\u001b[1;36m1\u001b[0m\u001b[1;33m]\u001b[0m\u001b[1;33m,\u001b[0m\u001b[0md3\u001b[0m\u001b[1;33m[\u001b[0m\u001b[1;36m2\u001b[0m\u001b[1;33m]\u001b[0m\u001b[1;33m,\u001b[0m\u001b[0mH\u001b[0m\u001b[1;33m,\u001b[0m\u001b[0mN\u001b[0m\u001b[1;33m,\u001b[0m\u001b[0mth\u001b[0m\u001b[1;33m,\u001b[0m\u001b[0minterval\u001b[0m\u001b[1;33m)\u001b[0m\u001b[1;33m\u001b[0m\u001b[0m\n\u001b[0m\u001b[0;32m      6\u001b[0m \u001b[1;32mprint\u001b[0m \u001b[0mcheck_cone\u001b[0m\u001b[1;33m(\u001b[0m\u001b[0md4\u001b[0m\u001b[1;33m[\u001b[0m\u001b[1;36m0\u001b[0m\u001b[1;33m]\u001b[0m\u001b[1;33m,\u001b[0m\u001b[0md4\u001b[0m\u001b[1;33m[\u001b[0m\u001b[1;36m1\u001b[0m\u001b[1;33m]\u001b[0m\u001b[1;33m,\u001b[0m\u001b[0md4\u001b[0m\u001b[1;33m[\u001b[0m\u001b[1;36m2\u001b[0m\u001b[1;33m]\u001b[0m\u001b[1;33m,\u001b[0m\u001b[0mH\u001b[0m\u001b[1;33m,\u001b[0m\u001b[0mN\u001b[0m\u001b[1;33m,\u001b[0m\u001b[0mth\u001b[0m\u001b[1;33m,\u001b[0m\u001b[0minterval\u001b[0m\u001b[1;33m)\u001b[0m\u001b[1;33m\u001b[0m\u001b[0m\n\u001b[0;32m      7\u001b[0m \u001b[1;32mprint\u001b[0m \u001b[0mcheck_cone\u001b[0m\u001b[1;33m(\u001b[0m\u001b[0md5\u001b[0m\u001b[1;33m[\u001b[0m\u001b[1;36m0\u001b[0m\u001b[1;33m]\u001b[0m\u001b[1;33m,\u001b[0m\u001b[0md5\u001b[0m\u001b[1;33m[\u001b[0m\u001b[1;36m1\u001b[0m\u001b[1;33m]\u001b[0m\u001b[1;33m,\u001b[0m\u001b[0md5\u001b[0m\u001b[1;33m[\u001b[0m\u001b[1;36m2\u001b[0m\u001b[1;33m]\u001b[0m\u001b[1;33m,\u001b[0m\u001b[0mH\u001b[0m\u001b[1;33m,\u001b[0m\u001b[0mN\u001b[0m\u001b[1;33m,\u001b[0m\u001b[0mth\u001b[0m\u001b[1;33m,\u001b[0m\u001b[0minterval\u001b[0m\u001b[1;33m)\u001b[0m\u001b[1;33m\u001b[0m\u001b[0m\n",
        "\u001b[1;31mIndexError\u001b[0m: tuple index out of range"
       ]
      },
      {
       "output_type": "stream",
       "stream": "stdout",
       "text": [
        "center:  0.155237333873 0.0\n",
        "major axis bounds:  -8.44658908192 8.75706374967 axis length:  17.2036528316\n",
        "minor axis bounds:  8.6011259802 -8.6011259802 axis length:  17.2022519604\n",
        "loc y: 17.2015516103 -17.2015516103\n",
        "True\n",
        "center:  0.154430602552 0.0\n",
        "major axis bounds:  -8.40269417728 8.71155538239 axis length:  17.1142495597\n",
        "minor axis bounds:  8.55642798424 -8.55642798424 axis length:  17.1128559685\n",
        "loc y: 17.1056800614 -17.1056800614\n",
        "True\n"
       ]
      }
     ],
     "prompt_number": 36
    },
    {
     "cell_type": "code",
     "collapsed": false,
     "input": [
      "d=[d1,d2,d3,d4,d5,d6,d7,d8,d9,d10]\n",
      "def check_detectors(d,H,N,th,steps):\n",
      "    hits=0\n",
      "    t=zeros(len(d))\n",
      "    for i in d:\n",
      "        if check_cone(i[0],i[1],i[2],H,N,th,steps)==True:\n",
      "            print \"True\"\n",
      "            hits+=1\n",
      "            t[i]=(H-i[2])/10\n",
      "        else:\n",
      "            print \"arrival time = 0\"\n",
      "            if hits>2:\n",
      "                return str(hits)+\" muons\"\n",
      "            else:\n",
      "                return 'Discarded, Hits:',hits\n",
      "print check_detectors(d,H,N,th,interval)"
     ],
     "language": "python",
     "metadata": {},
     "outputs": [
      {
       "ename": "IndexError",
       "evalue": "tuple index out of range",
       "output_type": "pyerr",
       "traceback": [
        "\u001b[1;31m---------------------------------------------------------------------------\u001b[0m\n\u001b[1;31mIndexError\u001b[0m                                Traceback (most recent call last)",
        "\u001b[1;32m<ipython-input-25-62996c71f8cf>\u001b[0m in \u001b[0;36m<module>\u001b[1;34m()\u001b[0m\n\u001b[0;32m     14\u001b[0m             \u001b[1;32melse\u001b[0m\u001b[1;33m:\u001b[0m\u001b[1;33m\u001b[0m\u001b[0m\n\u001b[0;32m     15\u001b[0m                 \u001b[1;32mreturn\u001b[0m \u001b[1;34m'Discarded, Hits:'\u001b[0m\u001b[1;33m,\u001b[0m\u001b[0mhits\u001b[0m\u001b[1;33m\u001b[0m\u001b[0m\n\u001b[1;32m---> 16\u001b[1;33m \u001b[1;32mprint\u001b[0m \u001b[0mcheck_detectors\u001b[0m\u001b[1;33m(\u001b[0m\u001b[0md\u001b[0m\u001b[1;33m,\u001b[0m\u001b[0mH\u001b[0m\u001b[1;33m,\u001b[0m\u001b[0mN\u001b[0m\u001b[1;33m,\u001b[0m\u001b[0mth\u001b[0m\u001b[1;33m,\u001b[0m\u001b[0minterval\u001b[0m\u001b[1;33m)\u001b[0m\u001b[1;33m\u001b[0m\u001b[0m\n\u001b[0m",
        "\u001b[1;32m<ipython-input-25-62996c71f8cf>\u001b[0m in \u001b[0;36mcheck_detectors\u001b[1;34m(d, H, N, th, steps)\u001b[0m\n\u001b[0;32m      4\u001b[0m     \u001b[0mt\u001b[0m\u001b[1;33m=\u001b[0m\u001b[0mzeros\u001b[0m\u001b[1;33m(\u001b[0m\u001b[0mlen\u001b[0m\u001b[1;33m(\u001b[0m\u001b[0md\u001b[0m\u001b[1;33m)\u001b[0m\u001b[1;33m)\u001b[0m\u001b[1;33m\u001b[0m\u001b[0m\n\u001b[0;32m      5\u001b[0m     \u001b[1;32mfor\u001b[0m \u001b[0mi\u001b[0m \u001b[1;32min\u001b[0m \u001b[0md\u001b[0m\u001b[1;33m:\u001b[0m\u001b[1;33m\u001b[0m\u001b[0m\n\u001b[1;32m----> 6\u001b[1;33m         \u001b[1;32mif\u001b[0m \u001b[0mcheck_cone\u001b[0m\u001b[1;33m(\u001b[0m\u001b[0mi\u001b[0m\u001b[1;33m[\u001b[0m\u001b[1;36m0\u001b[0m\u001b[1;33m]\u001b[0m\u001b[1;33m,\u001b[0m\u001b[0mi\u001b[0m\u001b[1;33m[\u001b[0m\u001b[1;36m1\u001b[0m\u001b[1;33m]\u001b[0m\u001b[1;33m,\u001b[0m\u001b[0mi\u001b[0m\u001b[1;33m[\u001b[0m\u001b[1;36m2\u001b[0m\u001b[1;33m]\u001b[0m\u001b[1;33m,\u001b[0m\u001b[0mH\u001b[0m\u001b[1;33m,\u001b[0m\u001b[0mN\u001b[0m\u001b[1;33m,\u001b[0m\u001b[0mth\u001b[0m\u001b[1;33m,\u001b[0m\u001b[0msteps\u001b[0m\u001b[1;33m)\u001b[0m\u001b[1;33m==\u001b[0m\u001b[0mTrue\u001b[0m\u001b[1;33m:\u001b[0m\u001b[1;33m\u001b[0m\u001b[0m\n\u001b[0m\u001b[0;32m      7\u001b[0m             \u001b[1;32mprint\u001b[0m \u001b[1;34m\"True\"\u001b[0m\u001b[1;33m\u001b[0m\u001b[0m\n\u001b[0;32m      8\u001b[0m             \u001b[0mhits\u001b[0m\u001b[1;33m+=\u001b[0m\u001b[1;36m1\u001b[0m\u001b[1;33m\u001b[0m\u001b[0m\n",
        "\u001b[1;31mIndexError\u001b[0m: tuple index out of range"
       ]
      },
      {
       "output_type": "stream",
       "stream": "stdout",
       "text": [
        "major axis bounds:  -8.44658908192 8.75706374967 axis length:  17.2036528316\n",
        "minor axis bounds:  8.6011259802 -8.6011259802 axis length:  17.2022519604\n",
        "True\n",
        "major axis bounds:  -8.40269417728 8.71155538239 axis length:  17.1142495597\n",
        "minor axis bounds:  8.55642798424 -8.55642798424 axis length:  17.1128559685\n",
        "True\n"
       ]
      }
     ],
     "prompt_number": 25
    },
    {
     "cell_type": "code",
     "collapsed": false,
     "input": [],
     "language": "python",
     "metadata": {},
     "outputs": []
    }
   ],
   "metadata": {}
  }
 ]
}