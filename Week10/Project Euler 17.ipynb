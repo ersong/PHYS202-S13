{
 "metadata": {
  "name": "Project Euler 17"
 },
 "nbformat": 3,
 "nbformat_minor": 0,
 "worksheets": [
  {
   "cells": [
    {
     "cell_type": "markdown",
     "metadata": {},
     "source": [
      "Number letter counts\n",
      "====================\n",
      "Problem 17\n",
      "----------\n",
      "\n",
      "If the numbers 1 to 5 are written out in words: one, two, three, four, five, then there are 3 + 3 + 5 + 4 + 4 = 19 letters used in total.\n",
      "\n",
      "If all the numbers from 1 to 1000 (one thousand) inclusive were written out in words, how many letters would be used? \n",
      "\n",
      "\n",
      "NOTE: Do not count spaces or hyphens. For example, 342 (three hundred and forty-two) contains 23 letters and 115 (one hundred and fifteen) contains 20 letters. The use of \"and\" when writing out numbers is in compliance with British usage."
     ]
    },
    {
     "cell_type": "code",
     "collapsed": false,
     "input": [
      "def count_letters(n):\n",
      "    m=str(n)\n",
      "    s=\"\"\n",
      "    l=len(m)-1\n",
      "    for i in range(0,len(m)):\n",
      "        if i==3:#project goes up to 1 thousand\n",
      "            s+=\"onethousand\"\n",
      "        elif i==2:#hundreds digit\n",
      "            if m[l-2]==\"1\":\n",
      "                s+=\"onehundredand\"\n",
      "            elif m[l-2]==\"2\":\n",
      "                s+=\"twohundredand\"\n",
      "            elif m[l-2]==\"3\":\n",
      "                s+=\"threehundredand\"\n",
      "            elif m[l-2]==\"4\":\n",
      "                s+=\"fourhundredand\"\n",
      "            elif m[l-2]==\"5\":\n",
      "                s+=\"fivehundredand\"\n",
      "            elif m[l-2]==\"6\":\n",
      "                s+=\"sixhundredand\"\n",
      "            elif m[l-2]==\"7\":\n",
      "                s+=\"sevenhundredand\"\n",
      "            elif m[l-2]==\"8\":\n",
      "                s+=\"eighthundredand\"\n",
      "            elif m[l-2]==\"9\":\n",
      "                s+=\"ninehundredand\"\n",
      "            elif m[l-2]==\"0\":\n",
      "                s+=\"\"\n",
      "        elif i==1:#tens digit\n",
      "            if m[l-1]==\"1\":\n",
      "                if m[l]==\"1\":\n",
      "                    s+=\"eleven\"\n",
      "                elif m[l]==\"2\":\n",
      "                    s+=\"twelve\"\n",
      "                elif m[l]==\"3\":\n",
      "                    s+=\"thirteen\"\n",
      "                elif m[l]==\"4\":\n",
      "                    s+=\"fourteen\"\n",
      "                elif m[l]==\"5\":\n",
      "                    s+=\"fifteen\"\n",
      "                elif m[l]==\"6\":\n",
      "                    s+=\"sixteen\"\n",
      "                elif m[l]==\"7\":\n",
      "                    s+=\"seventeen\"\n",
      "                elif m[l]==\"8\":\n",
      "                    s+=\"eighteen\"\n",
      "                elif m[l]==\"9\":\n",
      "                    s+=\"nineteen\"\n",
      "                elif m[l]==\"0\":\n",
      "                    s+=\"ten\"\n",
      "            elif m[l-1]==\"2\":\n",
      "                s+=\"twenty\"\n",
      "            elif m[l-1]==\"3\":\n",
      "                s+=\"thirty\"\n",
      "            elif m[l-1]==\"4\":\n",
      "                s+=\"forty\"\n",
      "            elif m[l-1]==\"5\":\n",
      "                s+=\"fifty\"\n",
      "            elif m[l-1]==\"6\":\n",
      "                s+=\"sixty\"\n",
      "            elif m[l-1]==\"7\":\n",
      "                s+=\"seventy\"\n",
      "            elif m[l-1]==\"8\":\n",
      "                s+=\"eighty\"\n",
      "            elif m[l-1]==\"9\":\n",
      "                s+=\"ninety\"\n",
      "            elif m[l-1]==\"0\":\n",
      "                s+=\"\"\n",
      "        elif i==0 and m[1-1]!=\"1\":#ones digit\n",
      "            if m[l]==\"1\":\n",
      "                s+=\"one\"\n",
      "            elif m[l]==\"2\":\n",
      "                s+=\"two\"\n",
      "            elif m[l]==\"3\":\n",
      "                s+=\"three\"\n",
      "            elif m[l]==\"4\":\n",
      "                s+=\"four\"\n",
      "            elif m[l]==\"5\":\n",
      "                s+=\"five\"\n",
      "            elif m[l]==\"6\":\n",
      "                s+=\"six\"\n",
      "            elif m[l]==\"7\":\n",
      "                s+=\"seven\"\n",
      "            elif m[l]==\"8\":\n",
      "                s+=\"eight\"\n",
      "            elif m[l]==\"9\":\n",
      "                s+=\"nine\"\n",
      "            elif m[l]==\"0\":\n",
      "                s+=\"\"\n",
      "        elif i==0 and m[1-1]==\"1\":\n",
      "            s+=\"\"\n",
      "    length=int(len(s))\n",
      "    return length"
     ],
     "language": "python",
     "metadata": {},
     "outputs": [],
     "prompt_number": 5
    },
    {
     "cell_type": "code",
     "collapsed": false,
     "input": [
      "print count_letters(342)#should be 23\n",
      "n=count_letters(342)\n",
      "print \"n: \",type(n)\n",
      "print count_letters(115)#should be 20"
     ],
     "language": "python",
     "metadata": {},
     "outputs": [
      {
       "output_type": "stream",
       "stream": "stdout",
       "text": [
        "23\n",
        "n:  <type 'int'>\n",
        "20\n"
       ]
      }
     ],
     "prompt_number": 6
    },
    {
     "cell_type": "code",
     "collapsed": false,
     "input": [
      "def sum_letters(x):\n",
      "    letters=0\n",
      "    for i in range(0,len(x)):\n",
      "        letters+=count_letters(x[i])\n",
      "    return letters"
     ],
     "language": "python",
     "metadata": {},
     "outputs": [],
     "prompt_number": 7
    },
    {
     "cell_type": "code",
     "collapsed": false,
     "input": [
      "x1=[300,40,2]\n",
      "x2=[100,10,5]\n",
      "print sum_letters(x1)#should be 23\n",
      "print sum_letters(x2)#should be 20"
     ],
     "language": "python",
     "metadata": {},
     "outputs": [
      {
       "output_type": "stream",
       "stream": "stdout",
       "text": [
        "23\n",
        "20\n"
       ]
      }
     ],
     "prompt_number": 8
    },
    {
     "cell_type": "code",
     "collapsed": false,
     "input": [
      "x=arange(1,1001,1)\n",
      "print sum_letters(x)"
     ],
     "language": "python",
     "metadata": {},
     "outputs": [
      {
       "output_type": "stream",
       "stream": "stdout",
       "text": [
        "21112\n"
       ]
      }
     ],
     "prompt_number": 9
    },
    {
     "cell_type": "code",
     "collapsed": false,
     "input": [],
     "language": "python",
     "metadata": {},
     "outputs": []
    }
   ],
   "metadata": {}
  }
 ]
}